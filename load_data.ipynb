{
 "cells": [
  {
   "cell_type": "code",
   "execution_count": 1,
   "metadata": {},
   "outputs": [],
   "source": [
    "import os\n",
    "import pandas as pd\n",
    "import numpy as np\n",
    "import torch.nn as nn\n",
    "import torch\n",
    "import lightning.pytorch as pl\n",
    "from pytorch_lightning.loggers import WandbLogger\n",
    "import segmentation_models_pytorch as smp\n",
    "from torch.optim.lr_scheduler import CosineAnnealingLR, ReduceLROnPlateau\n",
    "from torch.optim import AdamW\n",
    "import torch.nn as nn\n",
    "from lightning.pytorch.callbacks import ProgressBar\n",
    "from torchmetrics.functional import dice, f1_score, jaccard_index\n",
    "import torch\n",
    "from torch.utils.data import Dataset, DataLoader\n",
    "from torchvision import transforms\n",
    "from PIL import Image\n",
    "import torch.nn.functional as F\n",
    "import torchvision.models as models\n",
    "from sklearn.metrics import accuracy_score, roc_auc_score\n",
    "from torchvision.models import resnet50, ResNet50_Weights\n",
    "\n",
    "# config\n",
    "config = {\n",
    "    \"wandb\": True,\n",
    "    'competition'   : 'rsna-atd' ,\n",
    "    '_wandb_kernel' : 'johnnyhyl',\n",
    "    \"data_path\": \"../\",\n",
    "    \"model\": {\n",
    "        \"encoder_name\": models.efficientnet_b1(weights='DEFAULT'),\n",
    "        \"loss_smooth\": 1.0,\n",
    "        \"loss\": nn.BCEWithLogitsLoss(),\n",
    "        \"optimizer_params\": {\"lr\": 0.01, \"weight_decay\": 0.0},\n",
    "        \"scheduler\": {\n",
    "            \"name\": \"CosineAnnealingLR\",\n",
    "            \"params\": {\n",
    "                \"CosineAnnealingLR\": {\"T_max\": 20, \"eta_min\": 1e-06, \"last_epoch\": -1},\n",
    "                \"ReduceLROnPlateau\": {\n",
    "                    \"factor\": 0.316,\n",
    "                    \"mode\": \"min\",\n",
    "                    \"patience\": 3,\n",
    "                    \"verbose\": True,\n",
    "                },\n",
    "            },\n",
    "        },\n",
    "        \"seg_model\": \"Unet\",\n",
    "    },\n",
    "    \"output_dir\": \"models\",\n",
    "    \"progress_bar_refresh_rate\": 10,\n",
    "    \"seed\": 42,\n",
    "    \"train_bs\": 16,\n",
    "    \"use_aug\": True,\n",
    "    \"trainer\": {\n",
    "        \"enable_progress_bar\": True,\n",
    "        \"max_epochs\": 50,\n",
    "        \"min_epochs\": 20,\n",
    "        \"accelerator\": \"mps\",\n",
    "        \"devices\": 1,\n",
    "    },\n",
    "    \"valid_bs\": 16,\n",
    "    \"workers\": 0,\n",
    "    \"device\": \"mps\",\n",
    "    \"folds\": {\n",
    "        \"n_splits\": 2,\n",
    "        \"random_state\": 42,\n",
    "        \"train_folds\": [0, 1, 2, 3]\n",
    "    },\n",
    "    'target_col': [ \"bowel_injury\", \"extravasation_injury\", \"kidney_healthy\", \"kidney_low\",\n",
    "                   \"kidney_high\", \"liver_healthy\", \"liver_low\", \"liver_high\",\n",
    "                   \"spleen_healthy\", \"spleen_low\", \"spleen_high\"],\n",
    "}\n"
   ]
  },
  {
   "cell_type": "code",
   "execution_count": 2,
   "metadata": {},
   "outputs": [
    {
     "data": {
      "text/html": [
       "<div>\n",
       "<style scoped>\n",
       "    .dataframe tbody tr th:only-of-type {\n",
       "        vertical-align: middle;\n",
       "    }\n",
       "\n",
       "    .dataframe tbody tr th {\n",
       "        vertical-align: top;\n",
       "    }\n",
       "\n",
       "    .dataframe thead th {\n",
       "        text-align: right;\n",
       "    }\n",
       "</style>\n",
       "<table border=\"1\" class=\"dataframe\">\n",
       "  <thead>\n",
       "    <tr style=\"text-align: right;\">\n",
       "      <th></th>\n",
       "      <th>patient_id</th>\n",
       "      <th>bowel_healthy</th>\n",
       "      <th>bowel_injury</th>\n",
       "      <th>extravasation_healthy</th>\n",
       "      <th>extravasation_injury</th>\n",
       "      <th>kidney_healthy</th>\n",
       "      <th>kidney_low</th>\n",
       "      <th>kidney_high</th>\n",
       "      <th>liver_healthy</th>\n",
       "      <th>liver_low</th>\n",
       "      <th>...</th>\n",
       "      <th>spleen_healthy</th>\n",
       "      <th>spleen_low</th>\n",
       "      <th>spleen_high</th>\n",
       "      <th>any_injury</th>\n",
       "      <th>series_id</th>\n",
       "      <th>instance_number</th>\n",
       "      <th>injury_name</th>\n",
       "      <th>image_path</th>\n",
       "      <th>width</th>\n",
       "      <th>height</th>\n",
       "    </tr>\n",
       "  </thead>\n",
       "  <tbody>\n",
       "    <tr>\n",
       "      <th>0</th>\n",
       "      <td>10004</td>\n",
       "      <td>1</td>\n",
       "      <td>0</td>\n",
       "      <td>0</td>\n",
       "      <td>1</td>\n",
       "      <td>0</td>\n",
       "      <td>1</td>\n",
       "      <td>0</td>\n",
       "      <td>1</td>\n",
       "      <td>0</td>\n",
       "      <td>...</td>\n",
       "      <td>0</td>\n",
       "      <td>0</td>\n",
       "      <td>1</td>\n",
       "      <td>1</td>\n",
       "      <td>21057</td>\n",
       "      <td>362</td>\n",
       "      <td>Active_Extravasation</td>\n",
       "      <td>./train_images/10004/21057/362.png</td>\n",
       "      <td>512</td>\n",
       "      <td>512</td>\n",
       "    </tr>\n",
       "    <tr>\n",
       "      <th>1</th>\n",
       "      <td>10004</td>\n",
       "      <td>1</td>\n",
       "      <td>0</td>\n",
       "      <td>0</td>\n",
       "      <td>1</td>\n",
       "      <td>0</td>\n",
       "      <td>1</td>\n",
       "      <td>0</td>\n",
       "      <td>1</td>\n",
       "      <td>0</td>\n",
       "      <td>...</td>\n",
       "      <td>0</td>\n",
       "      <td>0</td>\n",
       "      <td>1</td>\n",
       "      <td>1</td>\n",
       "      <td>21057</td>\n",
       "      <td>363</td>\n",
       "      <td>Active_Extravasation</td>\n",
       "      <td>./train_images/10004/21057/363.png</td>\n",
       "      <td>512</td>\n",
       "      <td>512</td>\n",
       "    </tr>\n",
       "  </tbody>\n",
       "</table>\n",
       "<p>2 rows × 21 columns</p>\n",
       "</div>"
      ],
      "text/plain": [
       "   patient_id  bowel_healthy  bowel_injury  extravasation_healthy  \\\n",
       "0       10004              1             0                      0   \n",
       "1       10004              1             0                      0   \n",
       "\n",
       "   extravasation_injury  kidney_healthy  kidney_low  kidney_high  \\\n",
       "0                     1               0           1            0   \n",
       "1                     1               0           1            0   \n",
       "\n",
       "   liver_healthy  liver_low  ...  spleen_healthy  spleen_low  spleen_high  \\\n",
       "0              1          0  ...               0           0            1   \n",
       "1              1          0  ...               0           0            1   \n",
       "\n",
       "   any_injury  series_id  instance_number           injury_name  \\\n",
       "0           1      21057              362  Active_Extravasation   \n",
       "1           1      21057              363  Active_Extravasation   \n",
       "\n",
       "                           image_path width  height  \n",
       "0  ./train_images/10004/21057/362.png   512     512  \n",
       "1  ./train_images/10004/21057/363.png   512     512  \n",
       "\n",
       "[2 rows x 21 columns]"
      ]
     },
     "execution_count": 2,
     "metadata": {},
     "output_type": "execute_result"
    }
   ],
   "source": [
    "BASE_PATH = '.'\n",
    "\n",
    "# train\n",
    "df = pd.read_csv(f\"{BASE_PATH}/train.csv\")\n",
    "df[\"image_path\"] = f\"{BASE_PATH}/train_images\"\\\n",
    "                    + \"/\" + df.patient_id.astype(str)\\\n",
    "                    + \"/\" + df.series_id.astype(str)\\\n",
    "                    + \"/\" + df.instance_number.astype(str) +\".png\"\n",
    "df = df.drop_duplicates()\n",
    "\n",
    "df.head(2)"
   ]
  },
  {
   "cell_type": "code",
   "execution_count": 4,
   "metadata": {},
   "outputs": [
    {
     "data": {
      "text/plain": [
       "410"
      ]
     },
     "execution_count": 4,
     "metadata": {},
     "output_type": "execute_result"
    }
   ],
   "source": [
    "# count of each patient ID in df\n",
    "df.patient_id.value_counts().max()"
   ]
  },
  {
   "cell_type": "code",
   "execution_count": 5,
   "metadata": {},
   "outputs": [],
   "source": [
    "class CTDataSet(Dataset):\n",
    "    def __init__(self, df, labels, transform=None):\n",
    "        self.image_paths = df.image_path\n",
    "        self.labels = labels\n",
    "        self.transform = transform\n",
    "        self.df = df\n",
    "\n",
    "    def __len__(self):\n",
    "        return len(self.image_paths)\n",
    "\n",
    "    def __getitem__(self, idx):\n",
    "        image_path = self.image_paths[idx]\n",
    "        image = Image.open(image_path).convert('RGB')  # Assuming images are in RGB format\n",
    "        label = torch.tensor(self.df.loc[idx, self.labels].values.astype(float), dtype=torch.float32)\n",
    "\n",
    "        if self.transform:\n",
    "            image = self.transform(image)\n",
    "\n",
    "        # Splitting the label tensor based on your provided indices\n",
    "        label_splits = (label[0:1], label[1:2], label[2:5], label[5:8], label[8:11])\n",
    "        return image, label_splits\n",
    "\n",
    "# Define transformations and augmentations\n",
    "transform = transforms.Compose([\n",
    "    # transforms.Resize((128, 128)),\n",
    "    # transforms.RandomHorizontalFlip(),\n",
    "    # transforms.RandomVerticalFlip(),\n",
    "    transforms.RandomAutocontrast(),\n",
    "    transforms.RandomRotation(10),\n",
    "    transforms.ToTensor(),\n",
    "    transforms.Pad(padding = 20),\n",
    "    transforms.ColorJitter(),\n",
    "    transforms.RandomPerspective(),\n",
    "    transforms.RandomAffine(degrees=(5, 20), translate=(0.1, 0.3), scale=(0.75, 0.9)),\n",
    "    # transforms.Normalize(mean=[0.485, 0.456, 0.406], std=[0.229, 0.224, 0.225])\n",
    "])\n",
    "# paths  = train_data.image_path.tolist()\n",
    "# labels = train_data[config.TARGET_COLS].values"
   ]
  },
  {
   "cell_type": "markdown",
   "metadata": {},
   "source": [
    "* All the images **should** be the same orientation.\n",
    "* Applying flips might weaken the model as it can reasonably expect a certain orientation\n",
    "* some people have situs inversus (rare)\n",
    "* if the trauma is bad the person might not by lying straight, so there may be a clue in their having trauma from the angle of the image\n",
    "* applying radom rotations might destroy this information"
   ]
  },
  {
   "cell_type": "code",
   "execution_count": 5,
   "metadata": {},
   "outputs": [],
   "source": [
    "class MetricsCalculator:\n",
    "    \n",
    "    def __init__(self, mode = 'binary'):\n",
    "        \n",
    "        self.probabilities = []\n",
    "        self.predictions = []\n",
    "        self.targets = []\n",
    "        \n",
    "        self.mode = mode\n",
    "    \n",
    "    def update(self, logits, target):\n",
    "        \"\"\"\n",
    "        Update the metrics calculator with predicted values and corresponding targets.\n",
    "        \n",
    "        Args:\n",
    "            predicted (torch.Tensor): Predicted values.\n",
    "            target (torch.Tensor): Ground truth targets.\n",
    "        \"\"\"\n",
    "        if self.mode == 'binary':\n",
    "            probabilities = torch.sigmoid(logits)\n",
    "            predicted = (probabilities > 0.5)\n",
    "        else:\n",
    "            probabilities = F.softmax(logits, dim = 1)\n",
    "            predicted = torch.argmax(probabilities, dim=1)\n",
    "            \n",
    "        self.probabilities.extend(probabilities.detach().cpu().numpy())\n",
    "        self.predictions.extend(predicted.detach().cpu().numpy())\n",
    "        self.targets.extend(target.detach().cpu().numpy())\n",
    "    \n",
    "    def reset(self):\n",
    "        \"\"\"Reset the stored predictions and targets.\"\"\"\n",
    "        \n",
    "        self.probabilities = []\n",
    "        self.predictions = []\n",
    "        self.targets = []\n",
    "    \n",
    "    def compute_accuracy(self):\n",
    "        \"\"\"\n",
    "        Compute the accuracy metric.\n",
    "        \n",
    "        Returns:\n",
    "            float: Accuracy.\n",
    "        \"\"\"\n",
    "        return accuracy_score(self.targets, self.predictions)\n",
    "    \n",
    "    def compute_auc(self):\n",
    "        \"\"\"\n",
    "        Compute the AUC (Area Under the Curve) metric.\n",
    "        \n",
    "        Returns:\n",
    "            float: AUC.\n",
    "        \"\"\"\n",
    "        if self.mode == 'multi':\n",
    "            return roc_auc_score(self.targets, self.probabilities, multi_class = 'ovo', labels=[0, 1, 2])\n",
    "    \n",
    "        else:\n",
    "            return roc_auc_score(self.targets, self.probabilities)"
   ]
  },
  {
   "cell_type": "code",
   "execution_count": 6,
   "metadata": {},
   "outputs": [],
   "source": [
    "class LightningModule(pl.LightningModule):\n",
    "    def __init__(self, config):\n",
    "        super().__init__()\n",
    "        self.config = config\n",
    "\n",
    "        # self.input = nn.Conv2d(3, 3, kernel_size = 3)\n",
    "        model = self.config['encoder_name']\n",
    "        \n",
    "        self.features = model.features\n",
    "        self.avgpool = model.avgpool\n",
    "        \n",
    "        self.bowel = nn.Linear(1280, 1)\n",
    "        self.extravasation = nn.Linear(1280, 1)\n",
    "        self.kidney = nn.Linear(1280, 3)\n",
    "        self.liver = nn.Linear(1280,3) \n",
    "        self.spleen = nn.Linear(1280, 3)\n",
    "\n",
    "        self.bowel_metrics = MetricsCalculator(mode='binary')\n",
    "        self.extravasation_metrics = MetricsCalculator(mode='binary')\n",
    "        self.kidney_metrics = MetricsCalculator(mode='multi')\n",
    "        self.liver_metrics = MetricsCalculator(mode='multi')\n",
    "        self.spleen_metrics = MetricsCalculator(mode='multi')\n",
    "        \n",
    "        self.loss_module = nn.BCEWithLogitsLoss()\n",
    "        self.val_step_outputs = []\n",
    "        self.val_step_labels = []\n",
    "        self.save_hyperparameters()\n",
    "\n",
    "    def forward(self, batch):\n",
    "        # extract features\n",
    "        # x = self.input(batch)\n",
    "        x = self.features(batch)\n",
    "        x = self.avgpool(x)\n",
    "        x = torch.flatten(x, 1)\n",
    "        \n",
    "        # output logits\n",
    "        bowel = self.bowel(x)\n",
    "        extravasation = self.extravasation(x)\n",
    "        kidney = self.kidney(x)\n",
    "        liver = self.liver(x)\n",
    "        spleen = self.spleen(x)\n",
    "        \n",
    "        return bowel, extravasation, kidney, liver, spleen\n",
    "\n",
    "    def configure_optimizers(self):\n",
    "        optimizer = AdamW(self.parameters(), **self.config[\"optimizer_params\"])\n",
    "\n",
    "        if self.config[\"scheduler\"][\"name\"] == \"CosineAnnealingLR\":\n",
    "            scheduler = CosineAnnealingLR(\n",
    "                optimizer,\n",
    "                **self.config[\"scheduler\"][\"params\"][self.config[\"scheduler\"][\"name\"]],\n",
    "            )\n",
    "            lr_scheduler_dict = {\"scheduler\": scheduler, \"interval\": \"step\"}\n",
    "            return {\"optimizer\": optimizer, \"lr_scheduler\": lr_scheduler_dict}\n",
    "        elif self.config[\"scheduler\"][\"name\"] == \"ReduceLROnPlateau\":\n",
    "            scheduler = ReduceLROnPlateau(\n",
    "                optimizer,\n",
    "                **self.config[\"scheduler\"][\"params\"][self.config[\"scheduler\"][\"name\"]],\n",
    "            )\n",
    "            lr_scheduler = {\"scheduler\": scheduler, \"monitor\": \"val_loss\"}\n",
    "            return {\"optimizer\": optimizer, \"lr_scheduler\": lr_scheduler}\n",
    "\n",
    "    def training_step(self, batch, batch_idx):\n",
    "        imgs, (bowel_labels, extravasation_labels, kidney_labels, liver_labels, spleen_labels) = batch\n",
    "        bowel, extravasation, kidney, liver, spleen = self(imgs)\n",
    "        \n",
    "        # Combine all the labels and predictions into single tensors\n",
    "        all_labels = torch.cat((bowel_labels, extravasation_labels, kidney_labels, liver_labels, spleen_labels), dim=1)\n",
    "        all_preds = torch.cat((bowel, extravasation, kidney, liver, spleen), dim=1)\n",
    "        \n",
    "        # Compute loss\n",
    "        loss = self.loss_module(all_preds, all_labels.float())\n",
    "        self.log(\"train_loss\", loss, on_step=True, on_epoch=True, prog_bar=True, batch_size=16)\n",
    "        for param_group in self.trainer.optimizers[0].param_groups:\n",
    "            lr = param_group[\"lr\"]\n",
    "        self.log(\"lr\", lr, on_step=True, on_epoch=True, prog_bar=True)\n",
    "\n",
    "        return loss\n",
    "\n",
    "    def validation_step(self, batch, batch_idx):\n",
    "        imgs, (bowel_labels, extravasation_labels, kidney_labels, liver_labels, spleen_labels) = batch\n",
    "        bowel, extravasation, kidney, liver, spleen = self(imgs)\n",
    "        \n",
    "        # Combine all the labels and predictions into single tensors\n",
    "        all_labels = torch.cat((bowel_labels, extravasation_labels, kidney_labels, liver_labels, spleen_labels), dim=1)\n",
    "        all_preds = torch.cat((bowel, extravasation, kidney, liver, spleen), dim=1)\n",
    "        \n",
    "        # Compute loss\n",
    "        loss = self.loss_module(all_preds, all_labels.float())\n",
    "        self.log(\"val_loss\", loss, on_step=False, on_epoch=True, prog_bar=True)\n",
    "\n",
    "    # def on_validation_epoch_end(self):\n",
    "    #     # all_preds = torch.cat(self.val_step_outputs)\n",
    "    #     # all_labels = torch.cat(self.val_step_labels)\n",
    "    #     # self.val_step_outputs.clear()\n",
    "    #     # self.val_step_labels.clear()\n",
    "    #     # val_dice = dice(all_preds, all_labels.long())\n",
    "    #     # val_f1 = f1_score(all_preds.sigmoid(), all_labels.long(), task = \"binary\")\n",
    "    #     val_iou = jaccard_index(num_classes=2, task='binary', preds=all_preds.sigmoid(), target=all_labels.long())\n",
    "    #     self.log(\"val_iou\", val_iou, on_step=False, on_epoch=True, prog_bar=True)\n",
    "\n",
    "    def on_epoch_end(self, outputs):\n",
    "        # Compute and log metrics\n",
    "        self.log('train_bowel_accuracy', self.bowel_metrics.compute_accuracy())\n",
    "        self.log('train_bowel_auc', self.bowel_metrics.compute_auc())\n",
    "        self.log('train_extravasation_accuracy', self.extravasation_metrics.compute_accuracy())\n",
    "        self.log('train_extravasation_auc', self.extravasation_metrics.compute_auc())\n",
    "        # ... and similarly for the other tasks ...\n",
    "        # Reset metrics\n",
    "        self.bowel_metrics.reset()\n",
    "        self.extravasation_metrics.reset()\n",
    "        self.kidney_metrics.reset()\n",
    "        self.liver_metrics.reset()\n",
    "        self.spleen_metrics.reset()"
   ]
  },
  {
   "cell_type": "code",
   "execution_count": 7,
   "metadata": {},
   "outputs": [
    {
     "name": "stderr",
     "output_type": "stream",
     "text": [
      "Global seed set to 42\n",
      "Failed to detect the name of this notebook, you can set it manually with the WANDB_NOTEBOOK_NAME environment variable to enable code saving.\n",
      "\u001b[34m\u001b[1mwandb\u001b[0m: Currently logged in as: \u001b[33mjohnny-hyland\u001b[0m. Use \u001b[1m`wandb login --relogin`\u001b[0m to force relogin\n"
     ]
    },
    {
     "data": {
      "text/html": [
       "Tracking run with wandb version 0.15.11"
      ],
      "text/plain": [
       "<IPython.core.display.HTML object>"
      ]
     },
     "metadata": {},
     "output_type": "display_data"
    },
    {
     "data": {
      "text/html": [
       "Run data is saved locally in <code>./wandb/run-20231001_222615-liykzn93</code>"
      ],
      "text/plain": [
       "<IPython.core.display.HTML object>"
      ]
     },
     "metadata": {},
     "output_type": "display_data"
    },
    {
     "data": {
      "text/html": [
       "Syncing run <strong><a href='https://wandb.ai/johnny-hyland/lightning_logs/runs/liykzn93' target=\"_blank\">snowy-leaf-12</a></strong> to <a href='https://wandb.ai/johnny-hyland/lightning_logs' target=\"_blank\">Weights & Biases</a> (<a href='https://wandb.me/run' target=\"_blank\">docs</a>)<br/>"
      ],
      "text/plain": [
       "<IPython.core.display.HTML object>"
      ]
     },
     "metadata": {},
     "output_type": "display_data"
    },
    {
     "data": {
      "text/html": [
       " View project at <a href='https://wandb.ai/johnny-hyland/lightning_logs' target=\"_blank\">https://wandb.ai/johnny-hyland/lightning_logs</a>"
      ],
      "text/plain": [
       "<IPython.core.display.HTML object>"
      ]
     },
     "metadata": {},
     "output_type": "display_data"
    },
    {
     "data": {
      "text/html": [
       " View run at <a href='https://wandb.ai/johnny-hyland/lightning_logs/runs/liykzn93' target=\"_blank\">https://wandb.ai/johnny-hyland/lightning_logs/runs/liykzn93</a>"
      ],
      "text/plain": [
       "<IPython.core.display.HTML object>"
      ]
     },
     "metadata": {},
     "output_type": "display_data"
    },
    {
     "name": "stderr",
     "output_type": "stream",
     "text": [
      "GPU available: True (mps), used: True\n",
      "TPU available: False, using: 0 TPU cores\n",
      "IPU available: False, using: 0 IPUs\n",
      "HPU available: False, using: 0 HPUs\n",
      "\n",
      "  | Name          | Type              | Params\n",
      "----------------------------------------------------\n",
      "0 | features      | Sequential        | 6.5 M \n",
      "1 | avgpool       | AdaptiveAvgPool2d | 0     \n",
      "2 | bowel         | Linear            | 1.3 K \n",
      "3 | extravasation | Linear            | 1.3 K \n",
      "4 | kidney        | Linear            | 3.8 K \n",
      "5 | liver         | Linear            | 3.8 K \n",
      "6 | spleen        | Linear            | 3.8 K \n",
      "7 | loss_module   | BCEWithLogitsLoss | 0     \n",
      "----------------------------------------------------\n",
      "6.5 M     Trainable params\n",
      "0         Non-trainable params\n",
      "6.5 M     Total params\n",
      "26.109    Total estimated model params size (MB)\n"
     ]
    },
    {
     "data": {
      "application/vnd.jupyter.widget-view+json": {
       "model_id": "4e47248bcb424b96bc38d0d22e9c2bf6",
       "version_major": 2,
       "version_minor": 0
      },
      "text/plain": [
       "Sanity Checking: 0it [00:00, ?it/s]"
      ]
     },
     "metadata": {},
     "output_type": "display_data"
    },
    {
     "data": {
      "application/vnd.jupyter.widget-view+json": {
       "model_id": "2730cc74cbda4487a8f84f83cdda25b5",
       "version_major": 2,
       "version_minor": 0
      },
      "text/plain": [
       "Training: 0it [00:00, ?it/s]"
      ]
     },
     "metadata": {},
     "output_type": "display_data"
    },
    {
     "data": {
      "application/vnd.jupyter.widget-view+json": {
       "model_id": "6997bb370c884c1dabc6b29bc1dd06e9",
       "version_major": 2,
       "version_minor": 0
      },
      "text/plain": [
       "Validation: 0it [00:00, ?it/s]"
      ]
     },
     "metadata": {},
     "output_type": "display_data"
    },
    {
     "name": "stderr",
     "output_type": "stream",
     "text": [
      "Metric val_loss improved. New best score: 0.593\n",
      "Epoch 0, global step 343: 'val_loss' reached 0.59305 (best 0.59305), saving model to '/Users/johnny/Library/CloudStorage/OneDrive-Personal/py/Kaggle/ab_trauma/models/model_fold_0-v6.ckpt' as top 1\n"
     ]
    },
    {
     "data": {
      "application/vnd.jupyter.widget-view+json": {
       "model_id": "c183a75e2c3347eaab5c7b90acb3f41e",
       "version_major": 2,
       "version_minor": 0
      },
      "text/plain": [
       "Validation: 0it [00:00, ?it/s]"
      ]
     },
     "metadata": {},
     "output_type": "display_data"
    },
    {
     "name": "stderr",
     "output_type": "stream",
     "text": [
      "Epoch 1, global step 686: 'val_loss' was not in top 1\n"
     ]
    },
    {
     "data": {
      "application/vnd.jupyter.widget-view+json": {
       "model_id": "d942ea8c2245432e89c2982013cfc7ac",
       "version_major": 2,
       "version_minor": 0
      },
      "text/plain": [
       "Validation: 0it [00:00, ?it/s]"
      ]
     },
     "metadata": {},
     "output_type": "display_data"
    },
    {
     "name": "stderr",
     "output_type": "stream",
     "text": [
      "Epoch 2, global step 1029: 'val_loss' was not in top 1\n"
     ]
    },
    {
     "data": {
      "application/vnd.jupyter.widget-view+json": {
       "model_id": "f7f9a95e7ff4492e9db98372a067bd09",
       "version_major": 2,
       "version_minor": 0
      },
      "text/plain": [
       "Validation: 0it [00:00, ?it/s]"
      ]
     },
     "metadata": {},
     "output_type": "display_data"
    },
    {
     "name": "stderr",
     "output_type": "stream",
     "text": [
      "Epoch 3, global step 1372: 'val_loss' was not in top 1\n"
     ]
    },
    {
     "data": {
      "application/vnd.jupyter.widget-view+json": {
       "model_id": "3052bc7c67bb48d99a3fb549b5074df5",
       "version_major": 2,
       "version_minor": 0
      },
      "text/plain": [
       "Validation: 0it [00:00, ?it/s]"
      ]
     },
     "metadata": {},
     "output_type": "display_data"
    },
    {
     "name": "stderr",
     "output_type": "stream",
     "text": [
      "Epoch 4, global step 1715: 'val_loss' was not in top 1\n"
     ]
    },
    {
     "data": {
      "application/vnd.jupyter.widget-view+json": {
       "model_id": "6087557659c04cacabf1d91e76a76bf9",
       "version_major": 2,
       "version_minor": 0
      },
      "text/plain": [
       "Validation: 0it [00:00, ?it/s]"
      ]
     },
     "metadata": {},
     "output_type": "display_data"
    },
    {
     "name": "stderr",
     "output_type": "stream",
     "text": [
      "Monitored metric val_loss did not improve in the last 5 records. Best score: 0.593. Signaling Trainer to stop.\n",
      "Epoch 5, global step 2058: 'val_loss' was not in top 1\n",
      "Trainer was signaled to stop but the required `min_epochs=20` or `min_steps=None` has not been met. Training will continue...\n"
     ]
    },
    {
     "data": {
      "application/vnd.jupyter.widget-view+json": {
       "model_id": "2027bd5a73074a18aca6d724935710a3",
       "version_major": 2,
       "version_minor": 0
      },
      "text/plain": [
       "Validation: 0it [00:00, ?it/s]"
      ]
     },
     "metadata": {},
     "output_type": "display_data"
    },
    {
     "name": "stderr",
     "output_type": "stream",
     "text": [
      "Monitored metric val_loss did not improve in the last 6 records. Best score: 0.593. Signaling Trainer to stop.\n",
      "Epoch 6, global step 2401: 'val_loss' was not in top 1\n"
     ]
    },
    {
     "data": {
      "application/vnd.jupyter.widget-view+json": {
       "model_id": "1e67ba99e55e4d919f8b40c69c2a2efd",
       "version_major": 2,
       "version_minor": 0
      },
      "text/plain": [
       "Validation: 0it [00:00, ?it/s]"
      ]
     },
     "metadata": {},
     "output_type": "display_data"
    },
    {
     "name": "stderr",
     "output_type": "stream",
     "text": [
      "Monitored metric val_loss did not improve in the last 7 records. Best score: 0.593. Signaling Trainer to stop.\n",
      "Epoch 7, global step 2744: 'val_loss' was not in top 1\n"
     ]
    },
    {
     "data": {
      "application/vnd.jupyter.widget-view+json": {
       "model_id": "9974fd0d2de54cb4a89955447fe22618",
       "version_major": 2,
       "version_minor": 0
      },
      "text/plain": [
       "Validation: 0it [00:00, ?it/s]"
      ]
     },
     "metadata": {},
     "output_type": "display_data"
    },
    {
     "name": "stderr",
     "output_type": "stream",
     "text": [
      "Monitored metric val_loss did not improve in the last 8 records. Best score: 0.593. Signaling Trainer to stop.\n",
      "Epoch 8, global step 3087: 'val_loss' was not in top 1\n"
     ]
    },
    {
     "data": {
      "application/vnd.jupyter.widget-view+json": {
       "model_id": "f68be9234e7e43c5898c06c9a21b5a4b",
       "version_major": 2,
       "version_minor": 0
      },
      "text/plain": [
       "Validation: 0it [00:00, ?it/s]"
      ]
     },
     "metadata": {},
     "output_type": "display_data"
    },
    {
     "name": "stderr",
     "output_type": "stream",
     "text": [
      "Monitored metric val_loss did not improve in the last 9 records. Best score: 0.593. Signaling Trainer to stop.\n",
      "Epoch 9, global step 3430: 'val_loss' was not in top 1\n"
     ]
    },
    {
     "data": {
      "application/vnd.jupyter.widget-view+json": {
       "model_id": "def843d634db4153be2f9bde2b43839b",
       "version_major": 2,
       "version_minor": 0
      },
      "text/plain": [
       "Validation: 0it [00:00, ?it/s]"
      ]
     },
     "metadata": {},
     "output_type": "display_data"
    },
    {
     "name": "stderr",
     "output_type": "stream",
     "text": [
      "Monitored metric val_loss did not improve in the last 10 records. Best score: 0.593. Signaling Trainer to stop.\n",
      "Epoch 10, global step 3773: 'val_loss' was not in top 1\n"
     ]
    },
    {
     "data": {
      "application/vnd.jupyter.widget-view+json": {
       "model_id": "c16879a05d9645b9862978f9677643cf",
       "version_major": 2,
       "version_minor": 0
      },
      "text/plain": [
       "Validation: 0it [00:00, ?it/s]"
      ]
     },
     "metadata": {},
     "output_type": "display_data"
    },
    {
     "name": "stderr",
     "output_type": "stream",
     "text": [
      "Monitored metric val_loss did not improve in the last 11 records. Best score: 0.593. Signaling Trainer to stop.\n",
      "Epoch 11, global step 4116: 'val_loss' was not in top 1\n"
     ]
    },
    {
     "data": {
      "application/vnd.jupyter.widget-view+json": {
       "model_id": "c9b178842e3c4e1fa82579f0ff21e863",
       "version_major": 2,
       "version_minor": 0
      },
      "text/plain": [
       "Validation: 0it [00:00, ?it/s]"
      ]
     },
     "metadata": {},
     "output_type": "display_data"
    },
    {
     "name": "stderr",
     "output_type": "stream",
     "text": [
      "Monitored metric val_loss did not improve in the last 12 records. Best score: 0.593. Signaling Trainer to stop.\n",
      "Epoch 12, global step 4459: 'val_loss' was not in top 1\n"
     ]
    },
    {
     "data": {
      "application/vnd.jupyter.widget-view+json": {
       "model_id": "c4642a14e30c465bbd7760a0eca91d52",
       "version_major": 2,
       "version_minor": 0
      },
      "text/plain": [
       "Validation: 0it [00:00, ?it/s]"
      ]
     },
     "metadata": {},
     "output_type": "display_data"
    },
    {
     "name": "stderr",
     "output_type": "stream",
     "text": [
      "Monitored metric val_loss did not improve in the last 13 records. Best score: 0.593. Signaling Trainer to stop.\n",
      "Epoch 13, global step 4802: 'val_loss' was not in top 1\n"
     ]
    },
    {
     "data": {
      "application/vnd.jupyter.widget-view+json": {
       "model_id": "4ffd51dfba564d5ba6877e5cf9f961bb",
       "version_major": 2,
       "version_minor": 0
      },
      "text/plain": [
       "Validation: 0it [00:00, ?it/s]"
      ]
     },
     "metadata": {},
     "output_type": "display_data"
    },
    {
     "name": "stderr",
     "output_type": "stream",
     "text": [
      "Monitored metric val_loss did not improve in the last 14 records. Best score: 0.593. Signaling Trainer to stop.\n",
      "Epoch 14, global step 5145: 'val_loss' was not in top 1\n"
     ]
    },
    {
     "data": {
      "application/vnd.jupyter.widget-view+json": {
       "model_id": "1c827449a3e64493b20a9ecfd4a5961d",
       "version_major": 2,
       "version_minor": 0
      },
      "text/plain": [
       "Validation: 0it [00:00, ?it/s]"
      ]
     },
     "metadata": {},
     "output_type": "display_data"
    },
    {
     "name": "stderr",
     "output_type": "stream",
     "text": [
      "Monitored metric val_loss did not improve in the last 15 records. Best score: 0.593. Signaling Trainer to stop.\n",
      "Epoch 15, global step 5488: 'val_loss' was not in top 1\n"
     ]
    },
    {
     "data": {
      "application/vnd.jupyter.widget-view+json": {
       "model_id": "9df7fd6be26f41a5982a3ee3f424f653",
       "version_major": 2,
       "version_minor": 0
      },
      "text/plain": [
       "Validation: 0it [00:00, ?it/s]"
      ]
     },
     "metadata": {},
     "output_type": "display_data"
    },
    {
     "name": "stderr",
     "output_type": "stream",
     "text": [
      "Monitored metric val_loss did not improve in the last 16 records. Best score: 0.593. Signaling Trainer to stop.\n",
      "Epoch 16, global step 5831: 'val_loss' was not in top 1\n"
     ]
    },
    {
     "data": {
      "application/vnd.jupyter.widget-view+json": {
       "model_id": "123b4ed52c3b4ea18b7f550652aea00f",
       "version_major": 2,
       "version_minor": 0
      },
      "text/plain": [
       "Validation: 0it [00:00, ?it/s]"
      ]
     },
     "metadata": {},
     "output_type": "display_data"
    },
    {
     "name": "stderr",
     "output_type": "stream",
     "text": [
      "Monitored metric val_loss did not improve in the last 17 records. Best score: 0.593. Signaling Trainer to stop.\n",
      "Epoch 17, global step 6174: 'val_loss' was not in top 1\n"
     ]
    },
    {
     "data": {
      "application/vnd.jupyter.widget-view+json": {
       "model_id": "be42cf8c2da1423ca96ec026a5311e47",
       "version_major": 2,
       "version_minor": 0
      },
      "text/plain": [
       "Validation: 0it [00:00, ?it/s]"
      ]
     },
     "metadata": {},
     "output_type": "display_data"
    },
    {
     "name": "stderr",
     "output_type": "stream",
     "text": [
      "Monitored metric val_loss did not improve in the last 18 records. Best score: 0.593. Signaling Trainer to stop.\n",
      "Epoch 18, global step 6517: 'val_loss' was not in top 1\n"
     ]
    },
    {
     "data": {
      "application/vnd.jupyter.widget-view+json": {
       "model_id": "90b180899f9d4ec7bda58ab27c3d06d1",
       "version_major": 2,
       "version_minor": 0
      },
      "text/plain": [
       "Validation: 0it [00:00, ?it/s]"
      ]
     },
     "metadata": {},
     "output_type": "display_data"
    },
    {
     "name": "stderr",
     "output_type": "stream",
     "text": [
      "Monitored metric val_loss did not improve in the last 19 records. Best score: 0.593. Signaling Trainer to stop.\n",
      "Epoch 19, global step 6860: 'val_loss' was not in top 1\n",
      "Global seed set to 42\n",
      "GPU available: True (mps), used: True\n",
      "TPU available: False, using: 0 TPU cores\n",
      "IPU available: False, using: 0 IPUs\n",
      "HPU available: False, using: 0 HPUs\n",
      "\n",
      "  | Name          | Type              | Params\n",
      "----------------------------------------------------\n",
      "0 | features      | Sequential        | 6.5 M \n",
      "1 | avgpool       | AdaptiveAvgPool2d | 0     \n",
      "2 | bowel         | Linear            | 1.3 K \n",
      "3 | extravasation | Linear            | 1.3 K \n",
      "4 | kidney        | Linear            | 3.8 K \n",
      "5 | liver         | Linear            | 3.8 K \n",
      "6 | spleen        | Linear            | 3.8 K \n",
      "7 | loss_module   | BCEWithLogitsLoss | 0     \n",
      "----------------------------------------------------\n",
      "6.5 M     Trainable params\n",
      "0         Non-trainable params\n",
      "6.5 M     Total params\n",
      "26.109    Total estimated model params size (MB)\n"
     ]
    },
    {
     "data": {
      "application/vnd.jupyter.widget-view+json": {
       "model_id": "b2dc08dc34c94d3d841f7bcb785bc77a",
       "version_major": 2,
       "version_minor": 0
      },
      "text/plain": [
       "Sanity Checking: 0it [00:00, ?it/s]"
      ]
     },
     "metadata": {},
     "output_type": "display_data"
    },
    {
     "data": {
      "application/vnd.jupyter.widget-view+json": {
       "model_id": "a9fa40a261da4e29bca4b49da80f0697",
       "version_major": 2,
       "version_minor": 0
      },
      "text/plain": [
       "Training: 0it [00:00, ?it/s]"
      ]
     },
     "metadata": {},
     "output_type": "display_data"
    },
    {
     "data": {
      "application/vnd.jupyter.widget-view+json": {
       "model_id": "6dfac2605add4af8a0284c35c3fabe89",
       "version_major": 2,
       "version_minor": 0
      },
      "text/plain": [
       "Validation: 0it [00:00, ?it/s]"
      ]
     },
     "metadata": {},
     "output_type": "display_data"
    },
    {
     "name": "stderr",
     "output_type": "stream",
     "text": [
      "Metric val_loss improved. New best score: 0.870\n",
      "Epoch 0, global step 409: 'val_loss' reached 0.86993 (best 0.86993), saving model to '/Users/johnny/Library/CloudStorage/OneDrive-Personal/py/Kaggle/ab_trauma/models/model_fold_1-v1.ckpt' as top 1\n"
     ]
    },
    {
     "data": {
      "application/vnd.jupyter.widget-view+json": {
       "model_id": "b788ed1277b74fdd9392f4581ba5071e",
       "version_major": 2,
       "version_minor": 0
      },
      "text/plain": [
       "Validation: 0it [00:00, ?it/s]"
      ]
     },
     "metadata": {},
     "output_type": "display_data"
    },
    {
     "name": "stderr",
     "output_type": "stream",
     "text": [
      "Epoch 1, global step 818: 'val_loss' was not in top 1\n"
     ]
    },
    {
     "data": {
      "application/vnd.jupyter.widget-view+json": {
       "model_id": "077d75a36c7847d4ae5db2dc11c4b232",
       "version_major": 2,
       "version_minor": 0
      },
      "text/plain": [
       "Validation: 0it [00:00, ?it/s]"
      ]
     },
     "metadata": {},
     "output_type": "display_data"
    },
    {
     "name": "stderr",
     "output_type": "stream",
     "text": [
      "Epoch 2, global step 1227: 'val_loss' was not in top 1\n"
     ]
    },
    {
     "data": {
      "application/vnd.jupyter.widget-view+json": {
       "model_id": "2ac3da3e61a3493eb7e3aa869c02223e",
       "version_major": 2,
       "version_minor": 0
      },
      "text/plain": [
       "Validation: 0it [00:00, ?it/s]"
      ]
     },
     "metadata": {},
     "output_type": "display_data"
    },
    {
     "name": "stderr",
     "output_type": "stream",
     "text": [
      "Epoch 3, global step 1636: 'val_loss' was not in top 1\n"
     ]
    },
    {
     "data": {
      "application/vnd.jupyter.widget-view+json": {
       "model_id": "78f0cc921409478496165089b2126ac2",
       "version_major": 2,
       "version_minor": 0
      },
      "text/plain": [
       "Validation: 0it [00:00, ?it/s]"
      ]
     },
     "metadata": {},
     "output_type": "display_data"
    },
    {
     "name": "stderr",
     "output_type": "stream",
     "text": [
      "Epoch 4, global step 2045: 'val_loss' was not in top 1\n"
     ]
    },
    {
     "data": {
      "application/vnd.jupyter.widget-view+json": {
       "model_id": "6869b6a8af704dfdbc3bd08cb9cb72d3",
       "version_major": 2,
       "version_minor": 0
      },
      "text/plain": [
       "Validation: 0it [00:00, ?it/s]"
      ]
     },
     "metadata": {},
     "output_type": "display_data"
    },
    {
     "name": "stderr",
     "output_type": "stream",
     "text": [
      "Monitored metric val_loss did not improve in the last 5 records. Best score: 0.870. Signaling Trainer to stop.\n",
      "Epoch 5, global step 2454: 'val_loss' was not in top 1\n",
      "Trainer was signaled to stop but the required `min_epochs=20` or `min_steps=None` has not been met. Training will continue...\n"
     ]
    },
    {
     "data": {
      "application/vnd.jupyter.widget-view+json": {
       "model_id": "d0bb7199bc444e628ae4c2fb32a0eb78",
       "version_major": 2,
       "version_minor": 0
      },
      "text/plain": [
       "Validation: 0it [00:00, ?it/s]"
      ]
     },
     "metadata": {},
     "output_type": "display_data"
    },
    {
     "name": "stderr",
     "output_type": "stream",
     "text": [
      "Monitored metric val_loss did not improve in the last 6 records. Best score: 0.870. Signaling Trainer to stop.\n",
      "Epoch 6, global step 2863: 'val_loss' was not in top 1\n"
     ]
    },
    {
     "data": {
      "application/vnd.jupyter.widget-view+json": {
       "model_id": "1407a5ee5280408f8a04532569cfc4ac",
       "version_major": 2,
       "version_minor": 0
      },
      "text/plain": [
       "Validation: 0it [00:00, ?it/s]"
      ]
     },
     "metadata": {},
     "output_type": "display_data"
    },
    {
     "name": "stderr",
     "output_type": "stream",
     "text": [
      "Monitored metric val_loss did not improve in the last 7 records. Best score: 0.870. Signaling Trainer to stop.\n",
      "Epoch 7, global step 3272: 'val_loss' was not in top 1\n"
     ]
    },
    {
     "data": {
      "application/vnd.jupyter.widget-view+json": {
       "model_id": "1e066fd36b27446ea2a754c8a7af1312",
       "version_major": 2,
       "version_minor": 0
      },
      "text/plain": [
       "Validation: 0it [00:00, ?it/s]"
      ]
     },
     "metadata": {},
     "output_type": "display_data"
    },
    {
     "name": "stderr",
     "output_type": "stream",
     "text": [
      "Monitored metric val_loss did not improve in the last 8 records. Best score: 0.870. Signaling Trainer to stop.\n",
      "Epoch 8, global step 3681: 'val_loss' was not in top 1\n"
     ]
    },
    {
     "data": {
      "application/vnd.jupyter.widget-view+json": {
       "model_id": "c87fcfa6d88744ac8834bf55bbfe1406",
       "version_major": 2,
       "version_minor": 0
      },
      "text/plain": [
       "Validation: 0it [00:00, ?it/s]"
      ]
     },
     "metadata": {},
     "output_type": "display_data"
    },
    {
     "name": "stderr",
     "output_type": "stream",
     "text": [
      "Monitored metric val_loss did not improve in the last 9 records. Best score: 0.870. Signaling Trainer to stop.\n",
      "Epoch 9, global step 4090: 'val_loss' was not in top 1\n"
     ]
    }
   ],
   "source": [
    "import warnings\n",
    "import gc\n",
    "\n",
    "warnings.filterwarnings(\"ignore\")\n",
    "\n",
    "import os\n",
    "import torch\n",
    "import pandas as pd\n",
    "import lightning.pytorch as pl\n",
    "from pprint import pprint\n",
    "from lightning.pytorch.callbacks import ModelCheckpoint, EarlyStopping, TQDMProgressBar\n",
    "from torch.utils.data import DataLoader\n",
    "from sklearn.model_selection import KFold\n",
    "from torch import mps\n",
    "from sklearn.model_selection import StratifiedGroupKFold\n",
    "\n",
    "df['stratify'] = ''\n",
    "for col in config['target_col']:\n",
    "    df['stratify'] += df[col].astype(str)\n",
    "\n",
    "df = df.reset_index(drop=True)\n",
    "skf = StratifiedGroupKFold(n_splits=config['folds']['n_splits'], shuffle=True, random_state=config['seed'])\n",
    "for fold, (train_idx, val_idx) in enumerate(skf.split(df, df['stratify'], df[\"patient_id\"])):\n",
    "    df.loc[val_idx, 'fold'] = fold\n",
    "\n",
    "    train_df = df.iloc[train_idx]\n",
    "    valid_df = df.iloc[val_idx]\n",
    "\n",
    "    train_df = train_df.reset_index(drop=True)\n",
    "    valid_df = valid_df.reset_index(drop=True)\n",
    "\n",
    "    dataset_train = CTDataSet(train_df, labels=config['target_col'], transform=transform)\n",
    "    dataset_validation = CTDataSet(valid_df, labels=config['target_col'], transform=transform)\n",
    "\n",
    "    data_loader_train = DataLoader(\n",
    "        dataset_train, batch_size=config[\"train_bs\"], shuffle=True, num_workers=config[\"workers\"]\n",
    "    )\n",
    "    data_loader_validation = DataLoader(\n",
    "        dataset_validation, batch_size=config[\"valid_bs\"], shuffle=True, num_workers=config[\"workers\"]\n",
    "    )\n",
    "\n",
    "    pl.seed_everything(config[\"seed\"])\n",
    "\n",
    "    filename = f\"model_fold_{fold}\"\n",
    "\n",
    "    checkpoint_callback = ModelCheckpoint(\n",
    "        monitor=\"val_loss\",\n",
    "        dirpath=config[\"output_dir\"],\n",
    "        mode=\"min\",\n",
    "        filename=filename,\n",
    "        save_top_k=1,\n",
    "        verbose=1,\n",
    "    )\n",
    "\n",
    "    progress_bar_callback = TQDMProgressBar(refresh_rate=config[\"progress_bar_refresh_rate\"])\n",
    "\n",
    "    early_stop_callback = EarlyStopping(monitor=\"val_loss\", mode=\"min\", patience=5, verbose=1)\n",
    "\n",
    "    wandb_logger = WandbLogger(log_model=\"all\")\n",
    "\n",
    "    trainer = pl.Trainer(\n",
    "        callbacks=[checkpoint_callback, early_stop_callback, progress_bar_callback], logger=wandb_logger, **config[\"trainer\"]\n",
    "    )\n",
    "\n",
    "    model = LightningModule(config['model'])\n",
    "\n",
    "    trainer.fit(model, data_loader_train, data_loader_validation)\n",
    "    torch.save(model.state_dict(), os.path.join(config[\"output_dir\"], f\"{filename}.pth\"))\n",
    "    model = model.to('cpu')\n",
    "    mps.empty_cache()\n",
    "    del (\n",
    "        dataset_train,\n",
    "        dataset_validation,\n",
    "        train_df,\n",
    "        valid_df,\n",
    "        data_loader_train,\n",
    "        data_loader_validation,\n",
    "        model,\n",
    "        trainer,\n",
    "        checkpoint_callback,\n",
    "        progress_bar_callback,\n",
    "        early_stop_callback,\n",
    "    )\n",
    "    mps.empty_cache()\n",
    "    gc.collect()"
   ]
  },
  {
   "cell_type": "code",
   "execution_count": null,
   "metadata": {},
   "outputs": [],
   "source": []
  }
 ],
 "metadata": {
  "kernelspec": {
   "display_name": "kaggle",
   "language": "python",
   "name": "python3"
  },
  "language_info": {
   "codemirror_mode": {
    "name": "ipython",
    "version": 3
   },
   "file_extension": ".py",
   "mimetype": "text/x-python",
   "name": "python",
   "nbconvert_exporter": "python",
   "pygments_lexer": "ipython3",
   "version": "3.11.4"
  },
  "orig_nbformat": 4
 },
 "nbformat": 4,
 "nbformat_minor": 2
}
