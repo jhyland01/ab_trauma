{
 "cells": [
  {
   "cell_type": "code",
   "execution_count": 1,
   "metadata": {},
   "outputs": [],
   "source": [
    "import os\n",
    "import pandas as pd\n",
    "import numpy as np\n",
    "import torch.nn as nn\n",
    "import torch\n",
    "import lightning.pytorch as pl\n",
    "from pytorch_lightning.loggers import WandbLogger\n",
    "import segmentation_models_pytorch as smp\n",
    "from torch.optim.lr_scheduler import CosineAnnealingLR, ReduceLROnPlateau\n",
    "from torch.optim import AdamW\n",
    "import torch.nn as nn\n",
    "from lightning.pytorch.callbacks import ProgressBar\n",
    "from torchmetrics.functional import dice, f1_score, jaccard_index\n",
    "import torch\n",
    "from torch.utils.data import Dataset, DataLoader\n",
    "from torchvision import transforms\n",
    "from PIL import Image\n",
    "import torch.nn.functional as F\n",
    "import torchvision.models as models\n",
    "from sklearn.metrics import accuracy_score, roc_auc_score\n",
    "# from torchvision.models import resnet50, ResNet50_Weights\n",
    "\n",
    "# config\n",
    "config = {\n",
    "    \"wandb\": True,\n",
    "    'competition'   : 'rsna-atd' ,\n",
    "    '_wandb_kernel' : 'johnnyhyl',\n",
    "    \"data_path\": \"../\",\n",
    "    \"model\": {\n",
    "        \"encoder_name\": 'se-resnext26d',\n",
    "        \"loss_smooth\": 1.0,\n",
    "        \"loss\": nn.BCEWithLogitsLoss(),\n",
    "        \"optimizer_params\": {\"lr\": 0.01, \"weight_decay\": 0.0},\n",
    "        \"scheduler\": {\n",
    "            \"name\": \"CosineAnnealingLR\",\n",
    "            \"params\": {\n",
    "                \"CosineAnnealingLR\": {\"T_max\": 20, \"eta_min\": 1e-06, \"last_epoch\": -1},\n",
    "                \"ReduceLROnPlateau\": {\n",
    "                    \"factor\": 0.316,\n",
    "                    \"mode\": \"min\",\n",
    "                    \"patience\": 3,\n",
    "                    \"verbose\": True,\n",
    "                },\n",
    "            },\n",
    "        },\n",
    "        \"seg_model\": \"Unet\",\n",
    "    },\n",
    "    \"output_dir\": \"models\",\n",
    "    \"progress_bar_refresh_rate\": 10,\n",
    "    \"seed\": 42,\n",
    "    \"train_bs\": 1,\n",
    "    \"use_aug\": True,\n",
    "    \"trainer\": {\n",
    "        \"enable_progress_bar\": True,\n",
    "        \"max_epochs\": 20,\n",
    "        \"min_epochs\": 12,\n",
    "        \"accelerator\": \"mps\",\n",
    "        \"devices\": 1,\n",
    "    },\n",
    "    \"valid_bs\": 1,\n",
    "    \"workers\": 0,\n",
    "    \"device\": \"mps\",\n",
    "    \"folds\": {\n",
    "        \"n_splits\": 4,\n",
    "        \"random_state\": 42,\n",
    "        \"train_folds\": [0, 1, 2, 3]\n",
    "    },\n",
    "    'target_col': [ \"bowel_injury\", \n",
    "                   \"extravasation_injury\", \n",
    "                #    \"kidney_healthy\", \n",
    "                   \"kidney_low\",\n",
    "                   \"kidney_high\", \n",
    "                #    \"liver_healthy\", \n",
    "                   \"liver_low\", \"liver_high\",\n",
    "                #    \"spleen_healthy\", \n",
    "                   \"spleen_low\", \"spleen_high\"],\n",
    "}\n"
   ]
  },
  {
   "cell_type": "code",
   "execution_count": 2,
   "metadata": {},
   "outputs": [
    {
     "data": {
      "text/html": [
       "<div>\n",
       "<style scoped>\n",
       "    .dataframe tbody tr th:only-of-type {\n",
       "        vertical-align: middle;\n",
       "    }\n",
       "\n",
       "    .dataframe tbody tr th {\n",
       "        vertical-align: top;\n",
       "    }\n",
       "\n",
       "    .dataframe thead th {\n",
       "        text-align: right;\n",
       "    }\n",
       "</style>\n",
       "<table border=\"1\" class=\"dataframe\">\n",
       "  <thead>\n",
       "    <tr style=\"text-align: right;\">\n",
       "      <th></th>\n",
       "      <th>patient_id</th>\n",
       "      <th>bowel_healthy</th>\n",
       "      <th>bowel_injury</th>\n",
       "      <th>extravasation_healthy</th>\n",
       "      <th>extravasation_injury</th>\n",
       "      <th>kidney_healthy</th>\n",
       "      <th>kidney_low</th>\n",
       "      <th>kidney_high</th>\n",
       "      <th>liver_healthy</th>\n",
       "      <th>liver_low</th>\n",
       "      <th>...</th>\n",
       "      <th>spleen_healthy</th>\n",
       "      <th>spleen_low</th>\n",
       "      <th>spleen_high</th>\n",
       "      <th>any_injury</th>\n",
       "      <th>series_id</th>\n",
       "      <th>instance_number</th>\n",
       "      <th>injury_name</th>\n",
       "      <th>image_path</th>\n",
       "      <th>width</th>\n",
       "      <th>height</th>\n",
       "    </tr>\n",
       "  </thead>\n",
       "  <tbody>\n",
       "    <tr>\n",
       "      <th>0</th>\n",
       "      <td>10004</td>\n",
       "      <td>1</td>\n",
       "      <td>0</td>\n",
       "      <td>0</td>\n",
       "      <td>1</td>\n",
       "      <td>0</td>\n",
       "      <td>1</td>\n",
       "      <td>0</td>\n",
       "      <td>1</td>\n",
       "      <td>0</td>\n",
       "      <td>...</td>\n",
       "      <td>0</td>\n",
       "      <td>0</td>\n",
       "      <td>1</td>\n",
       "      <td>1</td>\n",
       "      <td>21057</td>\n",
       "      <td>362</td>\n",
       "      <td>Active_Extravasation</td>\n",
       "      <td>./train_images/10004/21057/362.png</td>\n",
       "      <td>512</td>\n",
       "      <td>512</td>\n",
       "    </tr>\n",
       "    <tr>\n",
       "      <th>1</th>\n",
       "      <td>10004</td>\n",
       "      <td>1</td>\n",
       "      <td>0</td>\n",
       "      <td>0</td>\n",
       "      <td>1</td>\n",
       "      <td>0</td>\n",
       "      <td>1</td>\n",
       "      <td>0</td>\n",
       "      <td>1</td>\n",
       "      <td>0</td>\n",
       "      <td>...</td>\n",
       "      <td>0</td>\n",
       "      <td>0</td>\n",
       "      <td>1</td>\n",
       "      <td>1</td>\n",
       "      <td>21057</td>\n",
       "      <td>363</td>\n",
       "      <td>Active_Extravasation</td>\n",
       "      <td>./train_images/10004/21057/363.png</td>\n",
       "      <td>512</td>\n",
       "      <td>512</td>\n",
       "    </tr>\n",
       "  </tbody>\n",
       "</table>\n",
       "<p>2 rows × 21 columns</p>\n",
       "</div>"
      ],
      "text/plain": [
       "   patient_id  bowel_healthy  bowel_injury  extravasation_healthy  \\\n",
       "0       10004              1             0                      0   \n",
       "1       10004              1             0                      0   \n",
       "\n",
       "   extravasation_injury  kidney_healthy  kidney_low  kidney_high  \\\n",
       "0                     1               0           1            0   \n",
       "1                     1               0           1            0   \n",
       "\n",
       "   liver_healthy  liver_low  ...  spleen_healthy  spleen_low  spleen_high  \\\n",
       "0              1          0  ...               0           0            1   \n",
       "1              1          0  ...               0           0            1   \n",
       "\n",
       "   any_injury  series_id  instance_number           injury_name  \\\n",
       "0           1      21057              362  Active_Extravasation   \n",
       "1           1      21057              363  Active_Extravasation   \n",
       "\n",
       "                           image_path width  height  \n",
       "0  ./train_images/10004/21057/362.png   512     512  \n",
       "1  ./train_images/10004/21057/363.png   512     512  \n",
       "\n",
       "[2 rows x 21 columns]"
      ]
     },
     "execution_count": 2,
     "metadata": {},
     "output_type": "execute_result"
    }
   ],
   "source": [
    "BASE_PATH = '.'\n",
    "\n",
    "# val\n",
    "df = pd.read_csv(f\"{BASE_PATH}/train.csv\")\n",
    "df[\"image_path\"] = f\"{BASE_PATH}/train_images\"\\\n",
    "                    + \"/\" + df.patient_id.astype(str)\\\n",
    "                    + \"/\" + df.series_id.astype(str)\\\n",
    "                    + \"/\" + df.instance_number.astype(str) +\".png\"\n",
    "df = df.drop_duplicates()\n",
    "\n",
    "df.head(2)"
   ]
  },
  {
   "cell_type": "code",
   "execution_count": 3,
   "metadata": {},
   "outputs": [
    {
     "data": {
      "text/plain": [
       "410"
      ]
     },
     "execution_count": 3,
     "metadata": {},
     "output_type": "execute_result"
    }
   ],
   "source": [
    "# count of each patient ID in df\n",
    "df.patient_id.value_counts().max()"
   ]
  },
  {
   "cell_type": "code",
   "execution_count": 4,
   "metadata": {},
   "outputs": [],
   "source": [
    "from collections import defaultdict\n",
    "\n",
    "class CTDataSet(Dataset):\n",
    "    def __init__(self, df, labels, transform=None):\n",
    "        self.labels = labels\n",
    "        self.transform = transform\n",
    "\n",
    "        # Group image paths by patient_id\n",
    "        self.bags = defaultdict(list)\n",
    "        for idx, row in df.iterrows():\n",
    "            patient_id = row[\"patient_id\"]\n",
    "            self.bags[patient_id].append(row[\"image_path\"])\n",
    "\n",
    "        # Convert to lists for indexing\n",
    "        self.patient_ids = list(self.bags.keys())\n",
    "        self.bag_labels = df.drop_duplicates(subset=[\"patient_id\"]).set_index(\"patient_id\")[labels].to_dict(orient=\"index\")\n",
    "\n",
    "    def __len__(self):\n",
    "        return len(self.patient_ids)\n",
    "\n",
    "    def __getitem__(self, idx):\n",
    "        patient_id = self.patient_ids[idx]\n",
    "        image_paths = self.bags[patient_id]\n",
    "        image_paths.sort()\n",
    "        images = [Image.open(image_path).convert('RGB') for image_path in image_paths]\n",
    "\n",
    "        grouped_images = []\n",
    "        for i in range(0, len(images), 5): # try 6\n",
    "            subset = images[i:min(i+5, len(images))]\n",
    "            # Convert images in subset to tensors, sum them, and convert back to PIL Image\n",
    "            summed_image = transforms.ToPILImage()(sum([transforms.ToTensor()(img) for img in subset]))\n",
    "            grouped_images.append(summed_image)\n",
    "\n",
    "        if len(grouped_images) > 60:\n",
    "            grouped_images = grouped_images[::2]\n",
    "\n",
    "        if self.transform:\n",
    "            grouped_images = [self.transform(image) for image in grouped_images]\n",
    "\n",
    "\n",
    "        images_tensor = torch.stack(grouped_images)\n",
    "        label_data = self.bag_labels[patient_id]\n",
    "        label = torch.tensor([label_data[label] for label in self.labels], dtype=torch.float32)\n",
    "\n",
    "        # Splitting the label tensor based on your provided indices\n",
    "        label_splits = (label[0:1], label[1:2], label[2:3], label[3:4], label[4:5], label[5:6], label[6:7], label[7:8])\n",
    "        return images_tensor, label_splits\n",
    "\n",
    "# Define transformations and augmentations\n",
    "transform = transforms.Compose([\n",
    "    transforms.Resize((256, 256)),\n",
    "    # transforms.RandomHorizontalFlip(),\n",
    "    # transforms.RandomVerticalFlip(),\n",
    "    transforms.RandomAutocontrast(),\n",
    "    transforms.RandomRotation(5),\n",
    "    # transforms.Pad(padding = 20),\n",
    "    transforms.ColorJitter(),\n",
    "    # transforms.RandomPerspective(),\n",
    "    transforms.RandomAffine(degrees=(5, 10), translate=(0.05, 0.1), scale=(0.8, 0.95)),\n",
    "    transforms.ToTensor(),\n",
    "    # transforms.Normalize(mean=[0.485, 0.456, 0.406], std=[0.229, 0.224, 0.225])\n",
    "])\n",
    "# paths  = train_data.image_path.tolist()\n",
    "# labels = train_data[config.TARGET_COLS].values"
   ]
  },
  {
   "cell_type": "markdown",
   "metadata": {},
   "source": [
    "* All the images **should** be the same orientation.\n",
    "* Applying flips might weaken the model as it can reasonably expect a certain orientation\n",
    "* some people have situs inversus (rare)\n",
    "* if the trauma is bad the person might not by lying straight, so there may be a clue in their having trauma from the angle of the image\n",
    "* applying radom rotations might destroy this information"
   ]
  },
  {
   "cell_type": "code",
   "execution_count": 5,
   "metadata": {},
   "outputs": [],
   "source": [
    "class MetricsCalculator:\n",
    "    \n",
    "    def __init__(self, mode = 'binary'):\n",
    "        \n",
    "        self.probabilities = []\n",
    "        self.predictions = []\n",
    "        self.targets = []\n",
    "        \n",
    "        self.mode = mode\n",
    "    \n",
    "    def update(self, logits, target):\n",
    "        \"\"\"\n",
    "        Update the metrics calculator with predicted values and corresponding targets.\n",
    "        \n",
    "        Args:\n",
    "            predicted (torch.Tensor): Predicted values.\n",
    "            target (torch.Tensor): Ground truth targets.\n",
    "        \"\"\"\n",
    "        if self.mode == 'binary':\n",
    "            probabilities = torch.sigmoid(logits)\n",
    "            predicted = (probabilities > 0.5)\n",
    "        else:\n",
    "            probabilities = F.softmax(logits, dim = 1)\n",
    "            predicted = torch.argmax(probabilities, dim=1)\n",
    "            \n",
    "        self.probabilities.extend(probabilities.detach().cpu().numpy())\n",
    "        self.predictions.extend(predicted.detach().cpu().numpy())\n",
    "        self.targets.extend(target.detach().cpu().numpy())\n",
    "    \n",
    "    def reset(self):\n",
    "        \"\"\"Reset the stored predictions and targets.\"\"\"\n",
    "        \n",
    "        self.probabilities = []\n",
    "        self.predictions = []\n",
    "        self.targets = []\n",
    "    \n",
    "    def compute_accuracy(self):\n",
    "        \"\"\"\n",
    "        Compute the accuracy metric.\n",
    "        \n",
    "        Returns:\n",
    "            float: Accuracy.\n",
    "        \"\"\"\n",
    "        return accuracy_score(self.targets, self.predictions)\n",
    "    \n",
    "    def compute_auc(self):\n",
    "        \"\"\"\n",
    "        Compute the AUC (Area Under the Curve) metric.\n",
    "        \n",
    "        Returns:\n",
    "            float: AUC.\n",
    "        \"\"\"\n",
    "        if self.mode == 'multi':\n",
    "            return roc_auc_score(self.targets, self.probabilities, multi_class = 'ovo', labels=[0, 1, 2])\n",
    "    \n",
    "        else:\n",
    "            return roc_auc_score(self.targets, self.probabilities)"
   ]
  },
  {
   "cell_type": "code",
   "execution_count": 6,
   "metadata": {},
   "outputs": [],
   "source": [
    "class LightningModule(pl.LightningModule):\n",
    "    def __init__(self, config):\n",
    "        super().__init__()\n",
    "        self.config = config\n",
    "\n",
    "        # self.input = nn.Conv2d(3, 3, kernel_size = 3)\n",
    "        model = self.config['encoder_name']\n",
    "        \n",
    "        self.features = model.features\n",
    "        self.avgpool = model.avgpool\n",
    "        \n",
    "        self.bowel = nn.Linear(1280, 1)\n",
    "        self.extravasation = nn.Linear(1280, 1)\n",
    "        self.kidney_low = nn.Linear(1280, 1)\n",
    "        self.kidney_high = nn.Linear(1280, 1)\n",
    "        self.liver_low = nn.Linear(1280,1) \n",
    "        self.liver_high = nn.Linear(1280, 1)\n",
    "        self.spleen_low = nn.Linear(1280, 1)\n",
    "        self.spleen_high = nn.Linear(1280, 1)\n",
    "\n",
    "        self.bowel_metrics = MetricsCalculator(mode='binary')\n",
    "        self.extravasation_metrics = MetricsCalculator(mode='binary')\n",
    "        self.kidney_low_metrics = MetricsCalculator(mode='binary')\n",
    "        self.kidney_high_metrics = MetricsCalculator(mode='binary')\n",
    "        self.liver_low_metrics = MetricsCalculator(mode='binary')\n",
    "        self.liver_high_metrics = MetricsCalculator(mode='binary')\n",
    "        self.spleen_low_metrics = MetricsCalculator(mode='binary')\n",
    "        self.spleen_high_metrics = MetricsCalculator(mode='binary')\n",
    "        \n",
    "        self.loss_module = nn.BCEWithLogitsLoss()\n",
    "        self.val_step_outputs = []\n",
    "        self.val_step_labels = []\n",
    "        self.save_hyperparameters()\n",
    "\n",
    "    def forward(self, bags):\n",
    "        # Each bag contains multiple instances (images)\n",
    "        bag_level_preds = []\n",
    "        for bag in bags:\n",
    "            x = self.features(bag)  # Process each image through the feature extractor\n",
    "            x = self.avgpool(x)\n",
    "            x = torch.flatten(x, 1)\n",
    "\n",
    "            # Output logits for each task\n",
    "            bowel = self.bowel(x)\n",
    "            extravasation = self.extravasation(x)\n",
    "            kidney_low = self.kidney_low(x)\n",
    "            kidney_high = self.kidney_high(x)\n",
    "            liver_low = self.liver_low(x)\n",
    "            liver_high = self.liver_high(x)\n",
    "            spleen_low = self.spleen_low(x)\n",
    "            spleen_high = self.spleen_high(x)\n",
    "\n",
    "\n",
    "            # Aggregate instance-level predictions to bag-level predictions\n",
    "            bag_level_preds.append(torch.stack([bowel, extravasation, kidney_low, kidney_high, liver_low, liver_high, spleen_low, spleen_high], dim=0).max(dim=1)[0])\n",
    "\n",
    "        return torch.stack(bag_level_preds, dim=0).squeeze(2)\n",
    "\n",
    "    def configure_optimizers(self):\n",
    "        optimizer = AdamW(self.parameters(), **self.config[\"optimizer_params\"])\n",
    "\n",
    "        if self.config[\"scheduler\"][\"name\"] == \"CosineAnnealingLR\":\n",
    "            scheduler = CosineAnnealingLR(\n",
    "                optimizer,\n",
    "                **self.config[\"scheduler\"][\"params\"][self.config[\"scheduler\"][\"name\"]],\n",
    "            )\n",
    "            lr_scheduler_dict = {\"scheduler\": scheduler, \"interval\": \"step\"}\n",
    "            return {\"optimizer\": optimizer, \"lr_scheduler\": lr_scheduler_dict}\n",
    "        elif self.config[\"scheduler\"][\"name\"] == \"ReduceLROnPlateau\":\n",
    "            scheduler = ReduceLROnPlateau(\n",
    "                optimizer,\n",
    "                **self.config[\"scheduler\"][\"params\"][self.config[\"scheduler\"][\"name\"]],\n",
    "            )\n",
    "            lr_scheduler = {\"scheduler\": scheduler, \"monitor\": \"val_loss\"}\n",
    "            return {\"optimizer\": optimizer, \"lr_scheduler\": lr_scheduler}\n",
    "\n",
    "    def training_step(self, batch, batch_idx):\n",
    "        bags, (bowel_labels, extravasation_labels, kidney_low_labels, kidney_high_labels, liver_low_labels, liver_high_labels, spleen_low_labels, spleen_high_labels) = batch\n",
    "        bag_level_preds = self(bags)\n",
    "\n",
    "        # Combine all the labels and predictions into single tensors\n",
    "        all_labels = torch.cat((bowel_labels, extravasation_labels, kidney_low_labels, kidney_high_labels, liver_low_labels, liver_high_labels, spleen_low_labels, spleen_high_labels), dim=1)\n",
    "        \n",
    "        # Compute loss\n",
    "        loss = self.loss_module(bag_level_preds, all_labels.float())\n",
    "        self.log(\"train_loss\", loss, on_step=True, on_epoch=True, prog_bar=True, batch_size=16)\n",
    "        for param_group in self.trainer.optimizers[0].param_groups:\n",
    "            lr = param_group[\"lr\"]\n",
    "        self.log(\"lr\", lr, on_step=True, on_epoch=True, prog_bar=True)\n",
    "\n",
    "        # self.bowel_metrics.update(bag_level_preds[:, 0], bowel_labels)\n",
    "        # self.extravasation_metrics.update(bag_level_preds[:, 1], extravasation_labels)\n",
    "        # self.kidney_low_metrics.update(bag_level_preds[:, 2], kidney_low_labels)\n",
    "        # self.kidney_high_metrics.update(bag_level_preds[:, 3], kidney_high_labels)\n",
    "        # self.liver_low_metrics.update(bag_level_preds[:, 4], liver_low_labels)\n",
    "        # self.liver_high_metrics.update(bag_level_preds[:, 5], liver_high_labels)\n",
    "        # self.spleen_low_metrics.update(bag_level_preds[:, 6], spleen_low_labels)\n",
    "        # self.spleen_high_metrics.update(bag_level_preds[:, 7], spleen_high_labels)\n",
    "\n",
    "        return loss\n",
    "\n",
    "    def validation_step(self, batch, batch_idx):\n",
    "        bags, (bowel_labels, extravasation_labels, kidney_low_labels, kidney_high_labels, liver_low_labels, liver_high_labels, spleen_low_labels, spleen_high_labels) = batch\n",
    "        bag_level_preds = self(bags)\n",
    "        \n",
    "        # Combine all the labels and predictions into single tensors\n",
    "        all_labels = torch.cat((bowel_labels, extravasation_labels, kidney_low_labels, kidney_high_labels, liver_low_labels, liver_high_labels, spleen_low_labels, spleen_high_labels), dim=1)\n",
    "        \n",
    "        # Compute loss\n",
    "        loss = self.loss_module(bag_level_preds, all_labels.float())\n",
    "        \n",
    "        self.log(\"val_loss\", loss, on_step=False, on_epoch=True, prog_bar=True)\n",
    "\n",
    "        self.bowel_metrics.update(bag_level_preds[:, 0], bowel_labels)\n",
    "        self.extravasation_metrics.update(bag_level_preds[:, 1], extravasation_labels)\n",
    "        self.kidney_low_metrics.update(bag_level_preds[:, 2], kidney_low_labels)\n",
    "        self.kidney_high_metrics.update(bag_level_preds[:, 3], kidney_high_labels)\n",
    "        self.liver_low_metrics.update(bag_level_preds[:, 4], liver_low_labels)\n",
    "        self.liver_high_metrics.update(bag_level_preds[:, 5], liver_high_labels)\n",
    "        self.spleen_low_metrics.update(bag_level_preds[:, 6], spleen_low_labels)\n",
    "        self.spleen_high_metrics.update(bag_level_preds[:, 7], spleen_high_labels)\n",
    "\n",
    "\n",
    "    def on_validation_epoch_end(self, outputs):\n",
    "        # Compute and log metrics\n",
    "        self.log('val_bowel_accuracy', self.bowel_metrics.compute_accuracy(),on_epoch=True)\n",
    "        self.log('val_bowel_auc', self.bowel_metrics.compute_auc(),on_epoch=True)\n",
    "        self.log('val_extravasation_accuracy', self.extravasation_metrics.compute_accuracy(),on_epoch=True)\n",
    "        self.log('val_extravasation_auc', self.extravasation_metrics.compute_auc(),on_epoch=True)\n",
    "        self.log('val_kidney_low_accuracy', self.kidney_low_metrics.compute_accuracy(),on_epoch=True)\n",
    "        self.log('val_kidney_low_auc', self.kidney_low_metrics.compute_auc(),on_epoch=True)\n",
    "        self.log('val_kidney_high_accuracy', self.kidney_high_metrics.compute_accuracy(),on_epoch=True)\n",
    "        self.log('val_kidney_high_auc', self.kidney_high_metrics.compute_auc(),on_epoch=True)\n",
    "        self.log('val_liver_low_accuracy', self.liver_low_metrics.compute_accuracy(),on_epoch=True)\n",
    "        self.log('val_liver_low_auc', self.liver_low_metrics.compute_auc(),on_epoch=True)\n",
    "        self.log('val_liver_high_accuracy', self.liver_high_metrics.compute_accuracy(),on_epoch=True)\n",
    "        self.log('val_liver_high_auc', self.liver_high_metrics.compute_auc(),on_epoch=True)\n",
    "        self.log('val_spleen_low_accuracy', self.spleen_low_metrics.compute_accuracy(),on_epoch=True)\n",
    "        self.log('val_spleen_low_auc', self.spleen_low_metrics.compute_auc(),on_epoch=True)\n",
    "        self.log('val_spleen_high_accuracy', self.spleen_high_metrics.compute_accuracy(),on_epoch=True)\n",
    "        self.log('val_spleen_high_auc', self.spleen_high_metrics.compute_auc(),on_epoch=True)\n",
    "\n",
    "        # Reset metrics\n",
    "        self.bowel_metrics.reset()\n",
    "        self.extravasation_metrics.reset()\n",
    "        self.kidney_low_metrics.reset()\n",
    "        self.kidney_high_metrics.reset()\n",
    "        self.liver_low_metrics.reset()\n",
    "        self.liver_high_metrics.reset()\n",
    "        self.spleen_low_metrics.reset()\n",
    "        self.spleen_high_metrics.reset()"
   ]
  },
  {
   "cell_type": "code",
   "execution_count": 7,
   "metadata": {},
   "outputs": [
    {
     "name": "stderr",
     "output_type": "stream",
     "text": [
      "Global seed set to 42\n",
      "Failed to detect the name of this notebook, you can set it manually with the WANDB_NOTEBOOK_NAME environment variable to enable code saving.\n",
      "\u001b[34m\u001b[1mwandb\u001b[0m: Currently logged in as: \u001b[33mjohnny-hyland\u001b[0m. Use \u001b[1m`wandb login --relogin`\u001b[0m to force relogin\n"
     ]
    },
    {
     "data": {
      "text/html": [
       "Tracking run with wandb version 0.15.11"
      ],
      "text/plain": [
       "<IPython.core.display.HTML object>"
      ]
     },
     "metadata": {},
     "output_type": "display_data"
    },
    {
     "data": {
      "text/html": [
       "Run data is saved locally in <code>./wandb/run-20231004_155923-5lcgwyfs</code>"
      ],
      "text/plain": [
       "<IPython.core.display.HTML object>"
      ]
     },
     "metadata": {},
     "output_type": "display_data"
    },
    {
     "data": {
      "text/html": [
       "Syncing run <strong><a href='https://wandb.ai/johnny-hyland/lightning_logs/runs/5lcgwyfs' target=\"_blank\">celestial-sun-24</a></strong> to <a href='https://wandb.ai/johnny-hyland/lightning_logs' target=\"_blank\">Weights & Biases</a> (<a href='https://wandb.me/run' target=\"_blank\">docs</a>)<br/>"
      ],
      "text/plain": [
       "<IPython.core.display.HTML object>"
      ]
     },
     "metadata": {},
     "output_type": "display_data"
    },
    {
     "data": {
      "text/html": [
       " View project at <a href='https://wandb.ai/johnny-hyland/lightning_logs' target=\"_blank\">https://wandb.ai/johnny-hyland/lightning_logs</a>"
      ],
      "text/plain": [
       "<IPython.core.display.HTML object>"
      ]
     },
     "metadata": {},
     "output_type": "display_data"
    },
    {
     "data": {
      "text/html": [
       " View run at <a href='https://wandb.ai/johnny-hyland/lightning_logs/runs/5lcgwyfs' target=\"_blank\">https://wandb.ai/johnny-hyland/lightning_logs/runs/5lcgwyfs</a>"
      ],
      "text/plain": [
       "<IPython.core.display.HTML object>"
      ]
     },
     "metadata": {},
     "output_type": "display_data"
    },
    {
     "name": "stderr",
     "output_type": "stream",
     "text": [
      "GPU available: True (mps), used: True\n",
      "TPU available: False, using: 0 TPU cores\n",
      "IPU available: False, using: 0 IPUs\n",
      "HPU available: False, using: 0 HPUs\n",
      "\n",
      "   | Name          | Type              | Params\n",
      "-----------------------------------------------------\n",
      "0  | features      | Sequential        | 6.5 M \n",
      "1  | avgpool       | AdaptiveAvgPool2d | 0     \n",
      "2  | bowel         | Linear            | 1.3 K \n",
      "3  | extravasation | Linear            | 1.3 K \n",
      "4  | kidney_low    | Linear            | 1.3 K \n",
      "5  | kidney_high   | Linear            | 1.3 K \n",
      "6  | liver_low     | Linear            | 1.3 K \n",
      "7  | liver_high    | Linear            | 1.3 K \n",
      "8  | spleen_low    | Linear            | 1.3 K \n",
      "9  | spleen_high   | Linear            | 1.3 K \n",
      "10 | loss_module   | BCEWithLogitsLoss | 0     \n",
      "-----------------------------------------------------\n",
      "6.5 M     Trainable params\n",
      "0         Non-trainable params\n",
      "6.5 M     Total params\n",
      "26.094    Total estimated model params size (MB)\n"
     ]
    },
    {
     "data": {
      "application/vnd.jupyter.widget-view+json": {
       "model_id": "5a66d7868ce344c2ba00ad2711bed306",
       "version_major": 2,
       "version_minor": 0
      },
      "text/plain": [
       "Sanity Checking: 0it [00:00, ?it/s]"
      ]
     },
     "metadata": {},
     "output_type": "display_data"
    },
    {
     "data": {
      "application/vnd.jupyter.widget-view+json": {
       "model_id": "b296f2d235b74351983d9dede1f5ffa7",
       "version_major": 2,
       "version_minor": 0
      },
      "text/plain": [
       "Training: 0it [00:00, ?it/s]"
      ]
     },
     "metadata": {},
     "output_type": "display_data"
    },
    {
     "data": {
      "application/vnd.jupyter.widget-view+json": {
       "model_id": "c20212507fc44799b076650c4c54f2a1",
       "version_major": 2,
       "version_minor": 0
      },
      "text/plain": [
       "Validation: 0it [00:00, ?it/s]"
      ]
     },
     "metadata": {},
     "output_type": "display_data"
    },
    {
     "name": "stderr",
     "output_type": "stream",
     "text": [
      "Metric val_loss improved. New best score: 0.468\n",
      "Epoch 0, global step 188: 'val_loss' reached 0.46817 (best 0.46817), saving model to '/Users/johnny/Library/CloudStorage/OneDrive-Personal/py/Kaggle/ab_trauma/models/model_fold_0-v10.ckpt' as top 1\n"
     ]
    },
    {
     "data": {
      "application/vnd.jupyter.widget-view+json": {
       "model_id": "4c1a93989b0a4907b7809b9437f374de",
       "version_major": 2,
       "version_minor": 0
      },
      "text/plain": [
       "Validation: 0it [00:00, ?it/s]"
      ]
     },
     "metadata": {},
     "output_type": "display_data"
    },
    {
     "name": "stderr",
     "output_type": "stream",
     "text": [
      "Epoch 1, global step 376: 'val_loss' was not in top 1\n"
     ]
    },
    {
     "data": {
      "application/vnd.jupyter.widget-view+json": {
       "model_id": "628cba0f86d24740b9acbef1b14674c9",
       "version_major": 2,
       "version_minor": 0
      },
      "text/plain": [
       "Validation: 0it [00:00, ?it/s]"
      ]
     },
     "metadata": {},
     "output_type": "display_data"
    },
    {
     "name": "stderr",
     "output_type": "stream",
     "text": [
      "Metric val_loss improved by 0.034 >= min_delta = 0.0. New best score: 0.434\n",
      "Epoch 2, global step 564: 'val_loss' reached 0.43409 (best 0.43409), saving model to '/Users/johnny/Library/CloudStorage/OneDrive-Personal/py/Kaggle/ab_trauma/models/model_fold_0-v10.ckpt' as top 1\n"
     ]
    },
    {
     "data": {
      "application/vnd.jupyter.widget-view+json": {
       "model_id": "795d4cef483a410ab54a47aa15476ebd",
       "version_major": 2,
       "version_minor": 0
      },
      "text/plain": [
       "Validation: 0it [00:00, ?it/s]"
      ]
     },
     "metadata": {},
     "output_type": "display_data"
    },
    {
     "name": "stderr",
     "output_type": "stream",
     "text": [
      "Epoch 3, global step 752: 'val_loss' was not in top 1\n"
     ]
    },
    {
     "data": {
      "application/vnd.jupyter.widget-view+json": {
       "model_id": "702bbaa4d13848338a539a74827c6d25",
       "version_major": 2,
       "version_minor": 0
      },
      "text/plain": [
       "Validation: 0it [00:00, ?it/s]"
      ]
     },
     "metadata": {},
     "output_type": "display_data"
    },
    {
     "name": "stderr",
     "output_type": "stream",
     "text": [
      "Epoch 4, global step 940: 'val_loss' was not in top 1\n"
     ]
    },
    {
     "data": {
      "application/vnd.jupyter.widget-view+json": {
       "model_id": "edf34e47be1449abacb85407d2e941c5",
       "version_major": 2,
       "version_minor": 0
      },
      "text/plain": [
       "Validation: 0it [00:00, ?it/s]"
      ]
     },
     "metadata": {},
     "output_type": "display_data"
    },
    {
     "name": "stderr",
     "output_type": "stream",
     "text": [
      "Epoch 5, global step 1128: 'val_loss' was not in top 1\n"
     ]
    },
    {
     "data": {
      "application/vnd.jupyter.widget-view+json": {
       "model_id": "54e94acb7f484f3dadf190fc2b31eab2",
       "version_major": 2,
       "version_minor": 0
      },
      "text/plain": [
       "Validation: 0it [00:00, ?it/s]"
      ]
     },
     "metadata": {},
     "output_type": "display_data"
    },
    {
     "name": "stderr",
     "output_type": "stream",
     "text": [
      "Epoch 6, global step 1316: 'val_loss' was not in top 1\n"
     ]
    },
    {
     "data": {
      "application/vnd.jupyter.widget-view+json": {
       "model_id": "c5373b573f3a4db2947b7ab79bd20c98",
       "version_major": 2,
       "version_minor": 0
      },
      "text/plain": [
       "Validation: 0it [00:00, ?it/s]"
      ]
     },
     "metadata": {},
     "output_type": "display_data"
    },
    {
     "name": "stderr",
     "output_type": "stream",
     "text": [
      "Metric val_loss improved by 0.015 >= min_delta = 0.0. New best score: 0.419\n",
      "Epoch 7, global step 1504: 'val_loss' reached 0.41876 (best 0.41876), saving model to '/Users/johnny/Library/CloudStorage/OneDrive-Personal/py/Kaggle/ab_trauma/models/model_fold_0-v10.ckpt' as top 1\n"
     ]
    },
    {
     "data": {
      "application/vnd.jupyter.widget-view+json": {
       "model_id": "29d0a81aab57499d81b1b64ec992d81d",
       "version_major": 2,
       "version_minor": 0
      },
      "text/plain": [
       "Validation: 0it [00:00, ?it/s]"
      ]
     },
     "metadata": {},
     "output_type": "display_data"
    },
    {
     "name": "stderr",
     "output_type": "stream",
     "text": [
      "Epoch 8, global step 1692: 'val_loss' was not in top 1\n"
     ]
    },
    {
     "data": {
      "application/vnd.jupyter.widget-view+json": {
       "model_id": "c324857cc438483cb78a50e9f826c628",
       "version_major": 2,
       "version_minor": 0
      },
      "text/plain": [
       "Validation: 0it [00:00, ?it/s]"
      ]
     },
     "metadata": {},
     "output_type": "display_data"
    },
    {
     "name": "stderr",
     "output_type": "stream",
     "text": [
      "Metric val_loss improved by 0.017 >= min_delta = 0.0. New best score: 0.402\n",
      "Epoch 9, global step 1880: 'val_loss' reached 0.40185 (best 0.40185), saving model to '/Users/johnny/Library/CloudStorage/OneDrive-Personal/py/Kaggle/ab_trauma/models/model_fold_0-v10.ckpt' as top 1\n"
     ]
    },
    {
     "data": {
      "application/vnd.jupyter.widget-view+json": {
       "model_id": "7d073f84e50042f299c82d9c33283b4e",
       "version_major": 2,
       "version_minor": 0
      },
      "text/plain": [
       "Validation: 0it [00:00, ?it/s]"
      ]
     },
     "metadata": {},
     "output_type": "display_data"
    },
    {
     "name": "stderr",
     "output_type": "stream",
     "text": [
      "Metric val_loss improved by 0.000 >= min_delta = 0.0. New best score: 0.401\n",
      "Epoch 10, global step 2068: 'val_loss' reached 0.40142 (best 0.40142), saving model to '/Users/johnny/Library/CloudStorage/OneDrive-Personal/py/Kaggle/ab_trauma/models/model_fold_0-v10.ckpt' as top 1\n"
     ]
    },
    {
     "data": {
      "application/vnd.jupyter.widget-view+json": {
       "model_id": "9894a94aceee4f07994e2389f0a53ce9",
       "version_major": 2,
       "version_minor": 0
      },
      "text/plain": [
       "Validation: 0it [00:00, ?it/s]"
      ]
     },
     "metadata": {},
     "output_type": "display_data"
    },
    {
     "name": "stderr",
     "output_type": "stream",
     "text": [
      "Epoch 11, global step 2256: 'val_loss' was not in top 1\n"
     ]
    },
    {
     "data": {
      "application/vnd.jupyter.widget-view+json": {
       "model_id": "b61233a282564016af446990d3d34cab",
       "version_major": 2,
       "version_minor": 0
      },
      "text/plain": [
       "Validation: 0it [00:00, ?it/s]"
      ]
     },
     "metadata": {},
     "output_type": "display_data"
    },
    {
     "name": "stderr",
     "output_type": "stream",
     "text": [
      "Metric val_loss improved by 0.010 >= min_delta = 0.0. New best score: 0.391\n",
      "Epoch 12, global step 2444: 'val_loss' reached 0.39142 (best 0.39142), saving model to '/Users/johnny/Library/CloudStorage/OneDrive-Personal/py/Kaggle/ab_trauma/models/model_fold_0-v10.ckpt' as top 1\n"
     ]
    },
    {
     "data": {
      "application/vnd.jupyter.widget-view+json": {
       "model_id": "50d3d305badb4f1da3bf26db67ad519c",
       "version_major": 2,
       "version_minor": 0
      },
      "text/plain": [
       "Validation: 0it [00:00, ?it/s]"
      ]
     },
     "metadata": {},
     "output_type": "display_data"
    },
    {
     "name": "stderr",
     "output_type": "stream",
     "text": [
      "Epoch 13, global step 2632: 'val_loss' was not in top 1\n"
     ]
    },
    {
     "data": {
      "application/vnd.jupyter.widget-view+json": {
       "model_id": "b2931145ef3341629a43a296d73077a5",
       "version_major": 2,
       "version_minor": 0
      },
      "text/plain": [
       "Validation: 0it [00:00, ?it/s]"
      ]
     },
     "metadata": {},
     "output_type": "display_data"
    },
    {
     "name": "stderr",
     "output_type": "stream",
     "text": [
      "Epoch 14, global step 2820: 'val_loss' was not in top 1\n"
     ]
    },
    {
     "data": {
      "application/vnd.jupyter.widget-view+json": {
       "model_id": "0d654797c69540af9890212608903311",
       "version_major": 2,
       "version_minor": 0
      },
      "text/plain": [
       "Validation: 0it [00:00, ?it/s]"
      ]
     },
     "metadata": {},
     "output_type": "display_data"
    },
    {
     "name": "stderr",
     "output_type": "stream",
     "text": [
      "Epoch 15, global step 3008: 'val_loss' was not in top 1\n"
     ]
    },
    {
     "data": {
      "application/vnd.jupyter.widget-view+json": {
       "model_id": "334ff7e3df26427aa36363507854f0bc",
       "version_major": 2,
       "version_minor": 0
      },
      "text/plain": [
       "Validation: 0it [00:00, ?it/s]"
      ]
     },
     "metadata": {},
     "output_type": "display_data"
    },
    {
     "name": "stderr",
     "output_type": "stream",
     "text": [
      "Epoch 16, global step 3196: 'val_loss' was not in top 1\n"
     ]
    },
    {
     "data": {
      "application/vnd.jupyter.widget-view+json": {
       "model_id": "86b1f497e38a4b9c955e7fba453549f3",
       "version_major": 2,
       "version_minor": 0
      },
      "text/plain": [
       "Validation: 0it [00:00, ?it/s]"
      ]
     },
     "metadata": {},
     "output_type": "display_data"
    },
    {
     "name": "stderr",
     "output_type": "stream",
     "text": [
      "Metric val_loss improved by 0.012 >= min_delta = 0.0. New best score: 0.379\n",
      "Epoch 17, global step 3384: 'val_loss' reached 0.37923 (best 0.37923), saving model to '/Users/johnny/Library/CloudStorage/OneDrive-Personal/py/Kaggle/ab_trauma/models/model_fold_0-v10.ckpt' as top 1\n"
     ]
    },
    {
     "data": {
      "application/vnd.jupyter.widget-view+json": {
       "model_id": "5d84f459483842c794a618d2ee2e4572",
       "version_major": 2,
       "version_minor": 0
      },
      "text/plain": [
       "Validation: 0it [00:00, ?it/s]"
      ]
     },
     "metadata": {},
     "output_type": "display_data"
    },
    {
     "name": "stderr",
     "output_type": "stream",
     "text": [
      "Epoch 18, global step 3572: 'val_loss' was not in top 1\n"
     ]
    },
    {
     "data": {
      "application/vnd.jupyter.widget-view+json": {
       "model_id": "3445293d1a704e8bab8ceef576ee5603",
       "version_major": 2,
       "version_minor": 0
      },
      "text/plain": [
       "Validation: 0it [00:00, ?it/s]"
      ]
     },
     "metadata": {},
     "output_type": "display_data"
    },
    {
     "name": "stderr",
     "output_type": "stream",
     "text": [
      "Epoch 19, global step 3760: 'val_loss' was not in top 1\n"
     ]
    },
    {
     "data": {
      "application/vnd.jupyter.widget-view+json": {
       "model_id": "f6aa48f9f4e34f9ba4f9b4bfec0512ae",
       "version_major": 2,
       "version_minor": 0
      },
      "text/plain": [
       "Validation: 0it [00:00, ?it/s]"
      ]
     },
     "metadata": {},
     "output_type": "display_data"
    },
    {
     "name": "stderr",
     "output_type": "stream",
     "text": [
      "Metric val_loss improved by 0.002 >= min_delta = 0.0. New best score: 0.377\n",
      "Epoch 20, global step 3948: 'val_loss' reached 0.37747 (best 0.37747), saving model to '/Users/johnny/Library/CloudStorage/OneDrive-Personal/py/Kaggle/ab_trauma/models/model_fold_0-v10.ckpt' as top 1\n"
     ]
    },
    {
     "data": {
      "application/vnd.jupyter.widget-view+json": {
       "model_id": "60be0a6b60b44c3ab8056704a6a5225f",
       "version_major": 2,
       "version_minor": 0
      },
      "text/plain": [
       "Validation: 0it [00:00, ?it/s]"
      ]
     },
     "metadata": {},
     "output_type": "display_data"
    },
    {
     "name": "stderr",
     "output_type": "stream",
     "text": [
      "Epoch 21, global step 4136: 'val_loss' was not in top 1\n"
     ]
    },
    {
     "data": {
      "application/vnd.jupyter.widget-view+json": {
       "model_id": "83ce0981b1e44802b88e31f7d65350a2",
       "version_major": 2,
       "version_minor": 0
      },
      "text/plain": [
       "Validation: 0it [00:00, ?it/s]"
      ]
     },
     "metadata": {},
     "output_type": "display_data"
    },
    {
     "name": "stderr",
     "output_type": "stream",
     "text": [
      "Epoch 22, global step 4324: 'val_loss' was not in top 1\n"
     ]
    },
    {
     "data": {
      "application/vnd.jupyter.widget-view+json": {
       "model_id": "1a53124a0d364c178c64c9d008b900cd",
       "version_major": 2,
       "version_minor": 0
      },
      "text/plain": [
       "Validation: 0it [00:00, ?it/s]"
      ]
     },
     "metadata": {},
     "output_type": "display_data"
    },
    {
     "name": "stderr",
     "output_type": "stream",
     "text": [
      "Epoch 23, global step 4512: 'val_loss' was not in top 1\n"
     ]
    },
    {
     "data": {
      "application/vnd.jupyter.widget-view+json": {
       "model_id": "50ff91807292473a8af72bd0429e6648",
       "version_major": 2,
       "version_minor": 0
      },
      "text/plain": [
       "Validation: 0it [00:00, ?it/s]"
      ]
     },
     "metadata": {},
     "output_type": "display_data"
    },
    {
     "name": "stderr",
     "output_type": "stream",
     "text": [
      "Epoch 24, global step 4700: 'val_loss' was not in top 1\n",
      "`Trainer.fit` stopped: `max_epochs=25` reached.\n",
      "Global seed set to 42\n",
      "GPU available: True (mps), used: True\n",
      "TPU available: False, using: 0 TPU cores\n",
      "IPU available: False, using: 0 IPUs\n",
      "HPU available: False, using: 0 HPUs\n",
      "\n",
      "   | Name          | Type              | Params\n",
      "-----------------------------------------------------\n",
      "0  | features      | Sequential        | 6.5 M \n",
      "1  | avgpool       | AdaptiveAvgPool2d | 0     \n",
      "2  | bowel         | Linear            | 1.3 K \n",
      "3  | extravasation | Linear            | 1.3 K \n",
      "4  | kidney_low    | Linear            | 1.3 K \n",
      "5  | kidney_high   | Linear            | 1.3 K \n",
      "6  | liver_low     | Linear            | 1.3 K \n",
      "7  | liver_high    | Linear            | 1.3 K \n",
      "8  | spleen_low    | Linear            | 1.3 K \n",
      "9  | spleen_high   | Linear            | 1.3 K \n",
      "10 | loss_module   | BCEWithLogitsLoss | 0     \n",
      "-----------------------------------------------------\n",
      "6.5 M     Trainable params\n",
      "0         Non-trainable params\n",
      "6.5 M     Total params\n",
      "26.094    Total estimated model params size (MB)\n"
     ]
    },
    {
     "data": {
      "application/vnd.jupyter.widget-view+json": {
       "model_id": "045e031f642840e295bd19e248ad8034",
       "version_major": 2,
       "version_minor": 0
      },
      "text/plain": [
       "Sanity Checking: 0it [00:00, ?it/s]"
      ]
     },
     "metadata": {},
     "output_type": "display_data"
    },
    {
     "data": {
      "application/vnd.jupyter.widget-view+json": {
       "model_id": "ea5f635b20d94e03b45ae57ff1d40b27",
       "version_major": 2,
       "version_minor": 0
      },
      "text/plain": [
       "Training: 0it [00:00, ?it/s]"
      ]
     },
     "metadata": {},
     "output_type": "display_data"
    },
    {
     "data": {
      "application/vnd.jupyter.widget-view+json": {
       "model_id": "bfb354768f4547d692df0a28f8c7f7dc",
       "version_major": 2,
       "version_minor": 0
      },
      "text/plain": [
       "Validation: 0it [00:00, ?it/s]"
      ]
     },
     "metadata": {},
     "output_type": "display_data"
    },
    {
     "name": "stderr",
     "output_type": "stream",
     "text": [
      "Metric val_loss improved. New best score: 0.436\n",
      "Epoch 0, global step 186: 'val_loss' reached 0.43589 (best 0.43589), saving model to '/Users/johnny/Library/CloudStorage/OneDrive-Personal/py/Kaggle/ab_trauma/models/model_fold_1-v4.ckpt' as top 1\n"
     ]
    },
    {
     "data": {
      "application/vnd.jupyter.widget-view+json": {
       "model_id": "771911fd6b9b4843b5a5d0703436f7f6",
       "version_major": 2,
       "version_minor": 0
      },
      "text/plain": [
       "Validation: 0it [00:00, ?it/s]"
      ]
     },
     "metadata": {},
     "output_type": "display_data"
    },
    {
     "name": "stderr",
     "output_type": "stream",
     "text": [
      "Epoch 1, global step 372: 'val_loss' was not in top 1\n"
     ]
    },
    {
     "data": {
      "application/vnd.jupyter.widget-view+json": {
       "model_id": "11676922aeab499b88701875bd5ae910",
       "version_major": 2,
       "version_minor": 0
      },
      "text/plain": [
       "Validation: 0it [00:00, ?it/s]"
      ]
     },
     "metadata": {},
     "output_type": "display_data"
    },
    {
     "name": "stderr",
     "output_type": "stream",
     "text": [
      "Epoch 2, global step 558: 'val_loss' was not in top 1\n"
     ]
    },
    {
     "data": {
      "application/vnd.jupyter.widget-view+json": {
       "model_id": "31e37a5ba7894d74ac092687a6f8b569",
       "version_major": 2,
       "version_minor": 0
      },
      "text/plain": [
       "Validation: 0it [00:00, ?it/s]"
      ]
     },
     "metadata": {},
     "output_type": "display_data"
    },
    {
     "name": "stderr",
     "output_type": "stream",
     "text": [
      "Epoch 3, global step 744: 'val_loss' was not in top 1\n"
     ]
    },
    {
     "data": {
      "application/vnd.jupyter.widget-view+json": {
       "model_id": "41fd8e163d2f4336a00adb807c61f4ed",
       "version_major": 2,
       "version_minor": 0
      },
      "text/plain": [
       "Validation: 0it [00:00, ?it/s]"
      ]
     },
     "metadata": {},
     "output_type": "display_data"
    },
    {
     "name": "stderr",
     "output_type": "stream",
     "text": [
      "Metric val_loss improved by 0.022 >= min_delta = 0.0. New best score: 0.414\n",
      "Epoch 4, global step 930: 'val_loss' reached 0.41396 (best 0.41396), saving model to '/Users/johnny/Library/CloudStorage/OneDrive-Personal/py/Kaggle/ab_trauma/models/model_fold_1-v4.ckpt' as top 1\n"
     ]
    },
    {
     "data": {
      "application/vnd.jupyter.widget-view+json": {
       "model_id": "57492f8971b6407d9fa5ff7a82deaf52",
       "version_major": 2,
       "version_minor": 0
      },
      "text/plain": [
       "Validation: 0it [00:00, ?it/s]"
      ]
     },
     "metadata": {},
     "output_type": "display_data"
    },
    {
     "name": "stderr",
     "output_type": "stream",
     "text": [
      "Epoch 5, global step 1116: 'val_loss' was not in top 1\n"
     ]
    },
    {
     "data": {
      "application/vnd.jupyter.widget-view+json": {
       "model_id": "1d123356411b4b77b001331293bcb203",
       "version_major": 2,
       "version_minor": 0
      },
      "text/plain": [
       "Validation: 0it [00:00, ?it/s]"
      ]
     },
     "metadata": {},
     "output_type": "display_data"
    },
    {
     "name": "stderr",
     "output_type": "stream",
     "text": [
      "Epoch 6, global step 1302: 'val_loss' was not in top 1\n"
     ]
    },
    {
     "data": {
      "application/vnd.jupyter.widget-view+json": {
       "model_id": "149e4d23fa8f4e909912883e8b98581d",
       "version_major": 2,
       "version_minor": 0
      },
      "text/plain": [
       "Validation: 0it [00:00, ?it/s]"
      ]
     },
     "metadata": {},
     "output_type": "display_data"
    },
    {
     "name": "stderr",
     "output_type": "stream",
     "text": [
      "Epoch 7, global step 1488: 'val_loss' was not in top 1\n"
     ]
    },
    {
     "data": {
      "application/vnd.jupyter.widget-view+json": {
       "model_id": "aed280003451453ebdfd33435842e4ae",
       "version_major": 2,
       "version_minor": 0
      },
      "text/plain": [
       "Validation: 0it [00:00, ?it/s]"
      ]
     },
     "metadata": {},
     "output_type": "display_data"
    },
    {
     "name": "stderr",
     "output_type": "stream",
     "text": [
      "Epoch 8, global step 1674: 'val_loss' was not in top 1\n"
     ]
    },
    {
     "data": {
      "application/vnd.jupyter.widget-view+json": {
       "model_id": "1b8064e6ca7a4af6ac77859fe3da5285",
       "version_major": 2,
       "version_minor": 0
      },
      "text/plain": [
       "Validation: 0it [00:00, ?it/s]"
      ]
     },
     "metadata": {},
     "output_type": "display_data"
    },
    {
     "name": "stderr",
     "output_type": "stream",
     "text": [
      "Monitored metric val_loss did not improve in the last 5 records. Best score: 0.414. Signaling Trainer to stop.\n",
      "Epoch 9, global step 1860: 'val_loss' was not in top 1\n",
      "Trainer was signaled to stop but the required `min_epochs=12` or `min_steps=None` has not been met. Training will continue...\n"
     ]
    },
    {
     "data": {
      "application/vnd.jupyter.widget-view+json": {
       "model_id": "7c3636508ee74562afaeab1269f56b78",
       "version_major": 2,
       "version_minor": 0
      },
      "text/plain": [
       "Validation: 0it [00:00, ?it/s]"
      ]
     },
     "metadata": {},
     "output_type": "display_data"
    },
    {
     "name": "stderr",
     "output_type": "stream",
     "text": [
      "Monitored metric val_loss did not improve in the last 6 records. Best score: 0.414. Signaling Trainer to stop.\n",
      "Epoch 10, global step 2046: 'val_loss' was not in top 1\n"
     ]
    },
    {
     "data": {
      "application/vnd.jupyter.widget-view+json": {
       "model_id": "2439526b50424497b4ec089efdf6713f",
       "version_major": 2,
       "version_minor": 0
      },
      "text/plain": [
       "Validation: 0it [00:00, ?it/s]"
      ]
     },
     "metadata": {},
     "output_type": "display_data"
    },
    {
     "name": "stderr",
     "output_type": "stream",
     "text": [
      "Monitored metric val_loss did not improve in the last 7 records. Best score: 0.414. Signaling Trainer to stop.\n",
      "Epoch 11, global step 2232: 'val_loss' was not in top 1\n",
      "Global seed set to 42\n",
      "GPU available: True (mps), used: True\n",
      "TPU available: False, using: 0 TPU cores\n",
      "IPU available: False, using: 0 IPUs\n",
      "HPU available: False, using: 0 HPUs\n",
      "\n",
      "   | Name          | Type              | Params\n",
      "-----------------------------------------------------\n",
      "0  | features      | Sequential        | 6.5 M \n",
      "1  | avgpool       | AdaptiveAvgPool2d | 0     \n",
      "2  | bowel         | Linear            | 1.3 K \n",
      "3  | extravasation | Linear            | 1.3 K \n",
      "4  | kidney_low    | Linear            | 1.3 K \n",
      "5  | kidney_high   | Linear            | 1.3 K \n",
      "6  | liver_low     | Linear            | 1.3 K \n",
      "7  | liver_high    | Linear            | 1.3 K \n",
      "8  | spleen_low    | Linear            | 1.3 K \n",
      "9  | spleen_high   | Linear            | 1.3 K \n",
      "10 | loss_module   | BCEWithLogitsLoss | 0     \n",
      "-----------------------------------------------------\n",
      "6.5 M     Trainable params\n",
      "0         Non-trainable params\n",
      "6.5 M     Total params\n",
      "26.094    Total estimated model params size (MB)\n"
     ]
    },
    {
     "data": {
      "application/vnd.jupyter.widget-view+json": {
       "model_id": "8a8863e702f746b1b84b80e385070f51",
       "version_major": 2,
       "version_minor": 0
      },
      "text/plain": [
       "Sanity Checking: 0it [00:00, ?it/s]"
      ]
     },
     "metadata": {},
     "output_type": "display_data"
    },
    {
     "data": {
      "application/vnd.jupyter.widget-view+json": {
       "model_id": "c6c0a775aaf247629c84b70efc99087a",
       "version_major": 2,
       "version_minor": 0
      },
      "text/plain": [
       "Training: 0it [00:00, ?it/s]"
      ]
     },
     "metadata": {},
     "output_type": "display_data"
    },
    {
     "data": {
      "application/vnd.jupyter.widget-view+json": {
       "model_id": "a5327e8a9fa94341a70ca2377be60382",
       "version_major": 2,
       "version_minor": 0
      },
      "text/plain": [
       "Validation: 0it [00:00, ?it/s]"
      ]
     },
     "metadata": {},
     "output_type": "display_data"
    },
    {
     "name": "stderr",
     "output_type": "stream",
     "text": [
      "Metric val_loss improved. New best score: 5.104\n",
      "Epoch 0, global step 184: 'val_loss' reached 5.10399 (best 5.10399), saving model to '/Users/johnny/Library/CloudStorage/OneDrive-Personal/py/Kaggle/ab_trauma/models/model_fold_2-v2.ckpt' as top 1\n"
     ]
    },
    {
     "data": {
      "application/vnd.jupyter.widget-view+json": {
       "model_id": "8935377dddbf4c2e98f9cfa075c2914b",
       "version_major": 2,
       "version_minor": 0
      },
      "text/plain": [
       "Validation: 0it [00:00, ?it/s]"
      ]
     },
     "metadata": {},
     "output_type": "display_data"
    },
    {
     "name": "stderr",
     "output_type": "stream",
     "text": [
      "Epoch 1, global step 368: 'val_loss' was not in top 1\n"
     ]
    },
    {
     "data": {
      "application/vnd.jupyter.widget-view+json": {
       "model_id": "d47113c8a52942a9b062bf10f5961594",
       "version_major": 2,
       "version_minor": 0
      },
      "text/plain": [
       "Validation: 0it [00:00, ?it/s]"
      ]
     },
     "metadata": {},
     "output_type": "display_data"
    },
    {
     "name": "stderr",
     "output_type": "stream",
     "text": [
      "Metric val_loss improved by 4.765 >= min_delta = 0.0. New best score: 0.339\n",
      "Epoch 2, global step 552: 'val_loss' reached 0.33870 (best 0.33870), saving model to '/Users/johnny/Library/CloudStorage/OneDrive-Personal/py/Kaggle/ab_trauma/models/model_fold_2-v2.ckpt' as top 1\n"
     ]
    },
    {
     "data": {
      "application/vnd.jupyter.widget-view+json": {
       "model_id": "61e04b6665d24bb2b2a4bb794579c44c",
       "version_major": 2,
       "version_minor": 0
      },
      "text/plain": [
       "Validation: 0it [00:00, ?it/s]"
      ]
     },
     "metadata": {},
     "output_type": "display_data"
    },
    {
     "name": "stderr",
     "output_type": "stream",
     "text": [
      "Metric val_loss improved by 0.001 >= min_delta = 0.0. New best score: 0.337\n",
      "Epoch 3, global step 736: 'val_loss' reached 0.33750 (best 0.33750), saving model to '/Users/johnny/Library/CloudStorage/OneDrive-Personal/py/Kaggle/ab_trauma/models/model_fold_2-v2.ckpt' as top 1\n"
     ]
    },
    {
     "data": {
      "application/vnd.jupyter.widget-view+json": {
       "model_id": "aa02be0f019441668af3d6a9bd92e3fc",
       "version_major": 2,
       "version_minor": 0
      },
      "text/plain": [
       "Validation: 0it [00:00, ?it/s]"
      ]
     },
     "metadata": {},
     "output_type": "display_data"
    },
    {
     "name": "stderr",
     "output_type": "stream",
     "text": [
      "Epoch 4, global step 920: 'val_loss' was not in top 1\n"
     ]
    },
    {
     "data": {
      "application/vnd.jupyter.widget-view+json": {
       "model_id": "cff7c5fe89b84062971ce3e9a3a7f5a6",
       "version_major": 2,
       "version_minor": 0
      },
      "text/plain": [
       "Validation: 0it [00:00, ?it/s]"
      ]
     },
     "metadata": {},
     "output_type": "display_data"
    },
    {
     "name": "stderr",
     "output_type": "stream",
     "text": [
      "Epoch 5, global step 1104: 'val_loss' was not in top 1\n"
     ]
    },
    {
     "data": {
      "application/vnd.jupyter.widget-view+json": {
       "model_id": "203dafe8b0194f74b14cc205ff9e44a3",
       "version_major": 2,
       "version_minor": 0
      },
      "text/plain": [
       "Validation: 0it [00:00, ?it/s]"
      ]
     },
     "metadata": {},
     "output_type": "display_data"
    },
    {
     "name": "stderr",
     "output_type": "stream",
     "text": [
      "Epoch 6, global step 1288: 'val_loss' was not in top 1\n"
     ]
    },
    {
     "data": {
      "application/vnd.jupyter.widget-view+json": {
       "model_id": "db1bbda6d370411b9cd8e924297bf52d",
       "version_major": 2,
       "version_minor": 0
      },
      "text/plain": [
       "Validation: 0it [00:00, ?it/s]"
      ]
     },
     "metadata": {},
     "output_type": "display_data"
    },
    {
     "name": "stderr",
     "output_type": "stream",
     "text": [
      "Epoch 7, global step 1472: 'val_loss' was not in top 1\n"
     ]
    },
    {
     "data": {
      "application/vnd.jupyter.widget-view+json": {
       "model_id": "95f8c4403fdf4137805b79c49ebecbc4",
       "version_major": 2,
       "version_minor": 0
      },
      "text/plain": [
       "Validation: 0it [00:00, ?it/s]"
      ]
     },
     "metadata": {},
     "output_type": "display_data"
    },
    {
     "name": "stderr",
     "output_type": "stream",
     "text": [
      "Monitored metric val_loss did not improve in the last 5 records. Best score: 0.337. Signaling Trainer to stop.\n",
      "Epoch 8, global step 1656: 'val_loss' was not in top 1\n",
      "Trainer was signaled to stop but the required `min_epochs=12` or `min_steps=None` has not been met. Training will continue...\n"
     ]
    },
    {
     "data": {
      "application/vnd.jupyter.widget-view+json": {
       "model_id": "e94a0ebb6b6748fba6f6cd77afddcb71",
       "version_major": 2,
       "version_minor": 0
      },
      "text/plain": [
       "Validation: 0it [00:00, ?it/s]"
      ]
     },
     "metadata": {},
     "output_type": "display_data"
    },
    {
     "name": "stderr",
     "output_type": "stream",
     "text": [
      "Monitored metric val_loss did not improve in the last 6 records. Best score: 0.337. Signaling Trainer to stop.\n",
      "Epoch 9, global step 1840: 'val_loss' was not in top 1\n"
     ]
    },
    {
     "data": {
      "application/vnd.jupyter.widget-view+json": {
       "model_id": "32a64651f5e849a89058099cabb0e7f2",
       "version_major": 2,
       "version_minor": 0
      },
      "text/plain": [
       "Validation: 0it [00:00, ?it/s]"
      ]
     },
     "metadata": {},
     "output_type": "display_data"
    },
    {
     "name": "stderr",
     "output_type": "stream",
     "text": [
      "Monitored metric val_loss did not improve in the last 7 records. Best score: 0.337. Signaling Trainer to stop.\n",
      "Epoch 10, global step 2024: 'val_loss' was not in top 1\n"
     ]
    },
    {
     "data": {
      "application/vnd.jupyter.widget-view+json": {
       "model_id": "bc38d411b4594c61a2ecb9b342e74ac4",
       "version_major": 2,
       "version_minor": 0
      },
      "text/plain": [
       "Validation: 0it [00:00, ?it/s]"
      ]
     },
     "metadata": {},
     "output_type": "display_data"
    },
    {
     "name": "stderr",
     "output_type": "stream",
     "text": [
      "Monitored metric val_loss did not improve in the last 8 records. Best score: 0.337. Signaling Trainer to stop.\n",
      "Epoch 11, global step 2208: 'val_loss' was not in top 1\n",
      "Global seed set to 42\n",
      "GPU available: True (mps), used: True\n",
      "TPU available: False, using: 0 TPU cores\n",
      "IPU available: False, using: 0 IPUs\n",
      "HPU available: False, using: 0 HPUs\n",
      "\n",
      "   | Name          | Type              | Params\n",
      "-----------------------------------------------------\n",
      "0  | features      | Sequential        | 6.5 M \n",
      "1  | avgpool       | AdaptiveAvgPool2d | 0     \n",
      "2  | bowel         | Linear            | 1.3 K \n",
      "3  | extravasation | Linear            | 1.3 K \n",
      "4  | kidney_low    | Linear            | 1.3 K \n",
      "5  | kidney_high   | Linear            | 1.3 K \n",
      "6  | liver_low     | Linear            | 1.3 K \n",
      "7  | liver_high    | Linear            | 1.3 K \n",
      "8  | spleen_low    | Linear            | 1.3 K \n",
      "9  | spleen_high   | Linear            | 1.3 K \n",
      "10 | loss_module   | BCEWithLogitsLoss | 0     \n",
      "-----------------------------------------------------\n",
      "6.5 M     Trainable params\n",
      "0         Non-trainable params\n",
      "6.5 M     Total params\n",
      "26.094    Total estimated model params size (MB)\n"
     ]
    },
    {
     "data": {
      "application/vnd.jupyter.widget-view+json": {
       "model_id": "6150662aa8294f4690aabb9571cfc2e8",
       "version_major": 2,
       "version_minor": 0
      },
      "text/plain": [
       "Sanity Checking: 0it [00:00, ?it/s]"
      ]
     },
     "metadata": {},
     "output_type": "display_data"
    },
    {
     "data": {
      "application/vnd.jupyter.widget-view+json": {
       "model_id": "4cb02abbca814909991ff3c53bb040ad",
       "version_major": 2,
       "version_minor": 0
      },
      "text/plain": [
       "Training: 0it [00:00, ?it/s]"
      ]
     },
     "metadata": {},
     "output_type": "display_data"
    },
    {
     "data": {
      "application/vnd.jupyter.widget-view+json": {
       "model_id": "429c0474675c4cf7b334a26d010c1a40",
       "version_major": 2,
       "version_minor": 0
      },
      "text/plain": [
       "Validation: 0it [00:00, ?it/s]"
      ]
     },
     "metadata": {},
     "output_type": "display_data"
    },
    {
     "name": "stderr",
     "output_type": "stream",
     "text": [
      "Metric val_loss improved. New best score: 0.397\n",
      "Epoch 0, global step 180: 'val_loss' reached 0.39731 (best 0.39731), saving model to '/Users/johnny/Library/CloudStorage/OneDrive-Personal/py/Kaggle/ab_trauma/models/model_fold_3-v2.ckpt' as top 1\n"
     ]
    },
    {
     "data": {
      "application/vnd.jupyter.widget-view+json": {
       "model_id": "dd2b3e9fcc604d3498965785b1701171",
       "version_major": 2,
       "version_minor": 0
      },
      "text/plain": [
       "Validation: 0it [00:00, ?it/s]"
      ]
     },
     "metadata": {},
     "output_type": "display_data"
    },
    {
     "name": "stderr",
     "output_type": "stream",
     "text": [
      "Metric val_loss improved by 0.010 >= min_delta = 0.0. New best score: 0.387\n",
      "Epoch 1, global step 360: 'val_loss' reached 0.38716 (best 0.38716), saving model to '/Users/johnny/Library/CloudStorage/OneDrive-Personal/py/Kaggle/ab_trauma/models/model_fold_3-v2.ckpt' as top 1\n"
     ]
    },
    {
     "data": {
      "application/vnd.jupyter.widget-view+json": {
       "model_id": "c7f1b57c4b4f42ffb1d293554a2a0465",
       "version_major": 2,
       "version_minor": 0
      },
      "text/plain": [
       "Validation: 0it [00:00, ?it/s]"
      ]
     },
     "metadata": {},
     "output_type": "display_data"
    },
    {
     "name": "stderr",
     "output_type": "stream",
     "text": [
      "Metric val_loss improved by 0.010 >= min_delta = 0.0. New best score: 0.377\n",
      "Epoch 2, global step 540: 'val_loss' reached 0.37699 (best 0.37699), saving model to '/Users/johnny/Library/CloudStorage/OneDrive-Personal/py/Kaggle/ab_trauma/models/model_fold_3-v2.ckpt' as top 1\n"
     ]
    },
    {
     "data": {
      "application/vnd.jupyter.widget-view+json": {
       "model_id": "9c2ffac9b21d4ec395b0a254d1b5c598",
       "version_major": 2,
       "version_minor": 0
      },
      "text/plain": [
       "Validation: 0it [00:00, ?it/s]"
      ]
     },
     "metadata": {},
     "output_type": "display_data"
    },
    {
     "name": "stderr",
     "output_type": "stream",
     "text": [
      "Epoch 3, global step 720: 'val_loss' was not in top 1\n"
     ]
    },
    {
     "data": {
      "application/vnd.jupyter.widget-view+json": {
       "model_id": "d1d45facab874c15aacb69cc39afe1b0",
       "version_major": 2,
       "version_minor": 0
      },
      "text/plain": [
       "Validation: 0it [00:00, ?it/s]"
      ]
     },
     "metadata": {},
     "output_type": "display_data"
    },
    {
     "name": "stderr",
     "output_type": "stream",
     "text": [
      "Epoch 4, global step 900: 'val_loss' was not in top 1\n"
     ]
    },
    {
     "data": {
      "application/vnd.jupyter.widget-view+json": {
       "model_id": "73707734256d441a8412494ea8f611c5",
       "version_major": 2,
       "version_minor": 0
      },
      "text/plain": [
       "Validation: 0it [00:00, ?it/s]"
      ]
     },
     "metadata": {},
     "output_type": "display_data"
    },
    {
     "name": "stderr",
     "output_type": "stream",
     "text": [
      "Epoch 5, global step 1080: 'val_loss' was not in top 1\n"
     ]
    },
    {
     "data": {
      "application/vnd.jupyter.widget-view+json": {
       "model_id": "21a0c6181ad04148a538043a9c283083",
       "version_major": 2,
       "version_minor": 0
      },
      "text/plain": [
       "Validation: 0it [00:00, ?it/s]"
      ]
     },
     "metadata": {},
     "output_type": "display_data"
    },
    {
     "name": "stderr",
     "output_type": "stream",
     "text": [
      "Epoch 6, global step 1260: 'val_loss' was not in top 1\n"
     ]
    },
    {
     "data": {
      "application/vnd.jupyter.widget-view+json": {
       "model_id": "5c916b0d75514b779d68f718e91e1abf",
       "version_major": 2,
       "version_minor": 0
      },
      "text/plain": [
       "Validation: 0it [00:00, ?it/s]"
      ]
     },
     "metadata": {},
     "output_type": "display_data"
    },
    {
     "name": "stderr",
     "output_type": "stream",
     "text": [
      "Monitored metric val_loss did not improve in the last 5 records. Best score: 0.377. Signaling Trainer to stop.\n",
      "Epoch 7, global step 1440: 'val_loss' was not in top 1\n",
      "Trainer was signaled to stop but the required `min_epochs=12` or `min_steps=None` has not been met. Training will continue...\n"
     ]
    },
    {
     "data": {
      "application/vnd.jupyter.widget-view+json": {
       "model_id": "98b29443e9ef4a099dd3c77fb6ae8e81",
       "version_major": 2,
       "version_minor": 0
      },
      "text/plain": [
       "Validation: 0it [00:00, ?it/s]"
      ]
     },
     "metadata": {},
     "output_type": "display_data"
    },
    {
     "name": "stderr",
     "output_type": "stream",
     "text": [
      "Monitored metric val_loss did not improve in the last 6 records. Best score: 0.377. Signaling Trainer to stop.\n",
      "Epoch 8, global step 1620: 'val_loss' was not in top 1\n"
     ]
    },
    {
     "data": {
      "application/vnd.jupyter.widget-view+json": {
       "model_id": "0c0a0b11edda40c186239c942395023d",
       "version_major": 2,
       "version_minor": 0
      },
      "text/plain": [
       "Validation: 0it [00:00, ?it/s]"
      ]
     },
     "metadata": {},
     "output_type": "display_data"
    },
    {
     "name": "stderr",
     "output_type": "stream",
     "text": [
      "Monitored metric val_loss did not improve in the last 7 records. Best score: 0.377. Signaling Trainer to stop.\n",
      "Epoch 9, global step 1800: 'val_loss' was not in top 1\n"
     ]
    },
    {
     "data": {
      "application/vnd.jupyter.widget-view+json": {
       "model_id": "e838b37f0f05467f98444800c5c81a03",
       "version_major": 2,
       "version_minor": 0
      },
      "text/plain": [
       "Validation: 0it [00:00, ?it/s]"
      ]
     },
     "metadata": {},
     "output_type": "display_data"
    },
    {
     "name": "stderr",
     "output_type": "stream",
     "text": [
      "Monitored metric val_loss did not improve in the last 8 records. Best score: 0.377. Signaling Trainer to stop.\n",
      "Epoch 10, global step 1980: 'val_loss' was not in top 1\n"
     ]
    },
    {
     "data": {
      "application/vnd.jupyter.widget-view+json": {
       "model_id": "0f5b82f1537c486fa7ec17384a90ec20",
       "version_major": 2,
       "version_minor": 0
      },
      "text/plain": [
       "Validation: 0it [00:00, ?it/s]"
      ]
     },
     "metadata": {},
     "output_type": "display_data"
    },
    {
     "name": "stderr",
     "output_type": "stream",
     "text": [
      "Monitored metric val_loss did not improve in the last 9 records. Best score: 0.377. Signaling Trainer to stop.\n",
      "Epoch 11, global step 2160: 'val_loss' was not in top 1\n"
     ]
    }
   ],
   "source": [
    "import warnings\n",
    "import gc\n",
    "\n",
    "warnings.filterwarnings(\"ignore\")\n",
    "\n",
    "import os\n",
    "import torch\n",
    "import pandas as pd\n",
    "import lightning.pytorch as pl\n",
    "from pprint import pprint\n",
    "from lightning.pytorch.callbacks import ModelCheckpoint, EarlyStopping, TQDMProgressBar\n",
    "from torch.utils.data import DataLoader\n",
    "from sklearn.model_selection import KFold\n",
    "from torch import mps\n",
    "from sklearn.model_selection import StratifiedGroupKFold\n",
    "\n",
    "df['stratify'] = ''\n",
    "for col in config['target_col']:\n",
    "    df['stratify'] += df[col].astype(str)\n",
    "\n",
    "df = df.reset_index(drop=True)\n",
    "skf = StratifiedGroupKFold(n_splits=config['folds']['n_splits'], shuffle=True, random_state=config['seed'])\n",
    "for fold, (train_idx, val_idx) in enumerate(skf.split(df, df['stratify'], df[\"patient_id\"])):\n",
    "    df.loc[val_idx, 'fold'] = fold\n",
    "\n",
    "    train_df = df.iloc[train_idx]\n",
    "    valid_df = df.iloc[val_idx]\n",
    "\n",
    "    train_df = train_df.reset_index(drop=True)\n",
    "    valid_df = valid_df.reset_index(drop=True)\n",
    "\n",
    "    dataset_train = CTDataSet(train_df, labels=config['target_col'], transform=transform)\n",
    "    dataset_validation = CTDataSet(valid_df, labels=config['target_col'], transform=transform)\n",
    "\n",
    "    data_loader_train = DataLoader(\n",
    "        dataset_train, batch_size=config[\"train_bs\"], shuffle=True, num_workers=config[\"workers\"]\n",
    "    )\n",
    "    data_loader_validation = DataLoader(\n",
    "        dataset_validation, batch_size=config[\"valid_bs\"], shuffle=False, num_workers=config[\"workers\"]\n",
    "    )\n",
    "\n",
    "    pl.seed_everything(config[\"seed\"])\n",
    "\n",
    "    filename = f\"model_fold_{fold}\"\n",
    "\n",
    "    checkpoint_callback = ModelCheckpoint(\n",
    "        monitor=\"val_loss\",\n",
    "        dirpath=config[\"output_dir\"],\n",
    "        mode=\"min\",\n",
    "        filename=filename,\n",
    "        save_top_k=1,\n",
    "        verbose=1,\n",
    "    )\n",
    "\n",
    "    progress_bar_callback = TQDMProgressBar(refresh_rate=config[\"progress_bar_refresh_rate\"])\n",
    "\n",
    "    early_stop_callback = EarlyStopping(monitor=\"val_loss\", mode=\"min\", patience=5, verbose=1)\n",
    "\n",
    "    wandb_logger = WandbLogger(log_model=\"all\")\n",
    "\n",
    "    trainer = pl.Trainer(\n",
    "        callbacks=[checkpoint_callback, early_stop_callback, progress_bar_callback], logger=wandb_logger, **config[\"trainer\"]\n",
    "    )\n",
    "\n",
    "    model = LightningModule(config['model'])\n",
    "\n",
    "    trainer.fit(model, data_loader_train, data_loader_validation)\n",
    "    torch.save(model.state_dict(), os.path.join(config[\"output_dir\"], f\"{filename}.pth\"))\n",
    "    model = model.to('cpu')\n",
    "    mps.empty_cache()\n",
    "    del (\n",
    "        dataset_train,\n",
    "        dataset_validation,\n",
    "        train_df,\n",
    "        valid_df,\n",
    "        data_loader_train,\n",
    "        data_loader_validation,\n",
    "        model,\n",
    "        trainer,\n",
    "        checkpoint_callback,\n",
    "        progress_bar_callback,\n",
    "        early_stop_callback,\n",
    "    )\n",
    "    mps.empty_cache()\n",
    "    gc.collect()"
   ]
  },
  {
   "cell_type": "code",
   "execution_count": null,
   "metadata": {},
   "outputs": [],
   "source": []
  }
 ],
 "metadata": {
  "kernelspec": {
   "display_name": "kaggle",
   "language": "python",
   "name": "python3"
  },
  "language_info": {
   "codemirror_mode": {
    "name": "ipython",
    "version": 3
   },
   "file_extension": ".py",
   "mimetype": "text/x-python",
   "name": "python",
   "nbconvert_exporter": "python",
   "pygments_lexer": "ipython3",
   "version": "3.11.4"
  },
  "orig_nbformat": 4
 },
 "nbformat": 4,
 "nbformat_minor": 2
}
